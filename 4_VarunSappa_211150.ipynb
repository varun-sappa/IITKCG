{
 "cells": [
  {
   "cell_type": "code",
   "execution_count": 1,
   "metadata": {
    "execution": {
     "iopub.execute_input": "2022-07-23T15:20:35.268357Z",
     "iopub.status.busy": "2022-07-23T15:20:35.268027Z",
     "iopub.status.idle": "2022-07-23T15:20:35.272350Z",
     "shell.execute_reply": "2022-07-23T15:20:35.271424Z",
     "shell.execute_reply.started": "2022-07-23T15:20:35.268301Z"
    }
   },
   "outputs": [],
   "source": [
    "import tensorflow as tf\n",
    "import tensorflow_hub as hub\n",
    "\n"
   ]
  },
  {
   "cell_type": "code",
   "execution_count": 2,
   "metadata": {
    "execution": {
     "iopub.execute_input": "2022-07-23T15:20:35.301055Z",
     "iopub.status.busy": "2022-07-23T15:20:35.300476Z",
     "iopub.status.idle": "2022-07-23T15:20:35.325816Z",
     "shell.execute_reply": "2022-07-23T15:20:35.324971Z",
     "shell.execute_reply.started": "2022-07-23T15:20:35.300996Z"
    }
   },
   "outputs": [
    {
     "data": {
      "text/html": [
       "<div>\n",
       "<style scoped>\n",
       "    .dataframe tbody tr th:only-of-type {\n",
       "        vertical-align: middle;\n",
       "    }\n",
       "\n",
       "    .dataframe tbody tr th {\n",
       "        vertical-align: top;\n",
       "    }\n",
       "\n",
       "    .dataframe thead th {\n",
       "        text-align: right;\n",
       "    }\n",
       "</style>\n",
       "<table border=\"1\" class=\"dataframe\">\n",
       "  <thead>\n",
       "    <tr style=\"text-align: right;\">\n",
       "      <th></th>\n",
       "      <th>id</th>\n",
       "      <th>breed</th>\n",
       "    </tr>\n",
       "  </thead>\n",
       "  <tbody>\n",
       "    <tr>\n",
       "      <th>0</th>\n",
       "      <td>000bec180eb18c7604dcecc8fe0dba07</td>\n",
       "      <td>boston_bull</td>\n",
       "    </tr>\n",
       "    <tr>\n",
       "      <th>1</th>\n",
       "      <td>001513dfcb2ffafc82cccf4d8bbaba97</td>\n",
       "      <td>dingo</td>\n",
       "    </tr>\n",
       "    <tr>\n",
       "      <th>2</th>\n",
       "      <td>001cdf01b096e06d78e9e5112d419397</td>\n",
       "      <td>pekinese</td>\n",
       "    </tr>\n",
       "    <tr>\n",
       "      <th>3</th>\n",
       "      <td>00214f311d5d2247d5dfe4fe24b2303d</td>\n",
       "      <td>bluetick</td>\n",
       "    </tr>\n",
       "    <tr>\n",
       "      <th>4</th>\n",
       "      <td>0021f9ceb3235effd7fcde7f7538ed62</td>\n",
       "      <td>golden_retriever</td>\n",
       "    </tr>\n",
       "  </tbody>\n",
       "</table>\n",
       "</div>"
      ],
      "text/plain": [
       "                                 id             breed\n",
       "0  000bec180eb18c7604dcecc8fe0dba07       boston_bull\n",
       "1  001513dfcb2ffafc82cccf4d8bbaba97             dingo\n",
       "2  001cdf01b096e06d78e9e5112d419397          pekinese\n",
       "3  00214f311d5d2247d5dfe4fe24b2303d          bluetick\n",
       "4  0021f9ceb3235effd7fcde7f7538ed62  golden_retriever"
      ]
     },
     "execution_count": 2,
     "metadata": {},
     "output_type": "execute_result"
    }
   ],
   "source": [
    "import pandas as pd\n",
    "labels_csv = pd.read_csv(\"../input/dog-breed-identification/labels.csv\")\n",
    "labels_csv.head()"
   ]
  },
  {
   "cell_type": "code",
   "execution_count": 3,
   "metadata": {
    "execution": {
     "iopub.execute_input": "2022-07-23T15:20:35.330522Z",
     "iopub.status.busy": "2022-07-23T15:20:35.330117Z",
     "iopub.status.idle": "2022-07-23T15:20:35.362581Z",
     "shell.execute_reply": "2022-07-23T15:20:35.361600Z",
     "shell.execute_reply.started": "2022-07-23T15:20:35.330465Z"
    }
   },
   "outputs": [
    {
     "data": {
      "text/html": [
       "<div>\n",
       "<style scoped>\n",
       "    .dataframe tbody tr th:only-of-type {\n",
       "        vertical-align: middle;\n",
       "    }\n",
       "\n",
       "    .dataframe tbody tr th {\n",
       "        vertical-align: top;\n",
       "    }\n",
       "\n",
       "    .dataframe thead th {\n",
       "        text-align: right;\n",
       "    }\n",
       "</style>\n",
       "<table border=\"1\" class=\"dataframe\">\n",
       "  <thead>\n",
       "    <tr style=\"text-align: right;\">\n",
       "      <th></th>\n",
       "      <th>id</th>\n",
       "      <th>breed</th>\n",
       "    </tr>\n",
       "  </thead>\n",
       "  <tbody>\n",
       "    <tr>\n",
       "      <th>count</th>\n",
       "      <td>10222</td>\n",
       "      <td>10222</td>\n",
       "    </tr>\n",
       "    <tr>\n",
       "      <th>unique</th>\n",
       "      <td>10222</td>\n",
       "      <td>120</td>\n",
       "    </tr>\n",
       "    <tr>\n",
       "      <th>top</th>\n",
       "      <td>37f351d4657a5d7420bb7b146a6672e0</td>\n",
       "      <td>scottish_deerhound</td>\n",
       "    </tr>\n",
       "    <tr>\n",
       "      <th>freq</th>\n",
       "      <td>1</td>\n",
       "      <td>126</td>\n",
       "    </tr>\n",
       "  </tbody>\n",
       "</table>\n",
       "</div>"
      ],
      "text/plain": [
       "                                      id               breed\n",
       "count                              10222               10222\n",
       "unique                             10222                 120\n",
       "top     37f351d4657a5d7420bb7b146a6672e0  scottish_deerhound\n",
       "freq                                   1                 126"
      ]
     },
     "execution_count": 3,
     "metadata": {},
     "output_type": "execute_result"
    }
   ],
   "source": [
    "labels_csv.describe()\n"
   ]
  },
  {
   "cell_type": "code",
   "execution_count": 4,
   "metadata": {
    "execution": {
     "iopub.execute_input": "2022-07-23T15:20:35.365073Z",
     "iopub.status.busy": "2022-07-23T15:20:35.364490Z",
     "iopub.status.idle": "2022-07-23T15:20:35.377011Z",
     "shell.execute_reply": "2022-07-23T15:20:35.376172Z",
     "shell.execute_reply.started": "2022-07-23T15:20:35.364740Z"
    }
   },
   "outputs": [
    {
     "data": {
      "text/plain": [
       "scottish_deerhound      126\n",
       "maltese_dog             117\n",
       "afghan_hound            116\n",
       "entlebucher             115\n",
       "bernese_mountain_dog    114\n",
       "                       ... \n",
       "komondor                 67\n",
       "golden_retriever         67\n",
       "brabancon_griffon        67\n",
       "eskimo_dog               66\n",
       "briard                   66\n",
       "Name: breed, Length: 120, dtype: int64"
      ]
     },
     "execution_count": 4,
     "metadata": {},
     "output_type": "execute_result"
    }
   ],
   "source": [
    "labels_csv[\"breed\"].value_counts()"
   ]
  },
  {
   "cell_type": "code",
   "execution_count": 5,
   "metadata": {
    "execution": {
     "iopub.execute_input": "2022-07-23T15:20:35.382527Z",
     "iopub.status.busy": "2022-07-23T15:20:35.382121Z",
     "iopub.status.idle": "2022-07-23T15:20:35.391215Z",
     "shell.execute_reply": "2022-07-23T15:20:35.390510Z",
     "shell.execute_reply.started": "2022-07-23T15:20:35.382369Z"
    }
   },
   "outputs": [
    {
     "data": {
      "image/jpeg": "[encoded data removed]",
      "text/plain": [
       "<IPython.core.display.Image object>"
      ]
     },
     "execution_count": 5,
     "metadata": {},
     "output_type": "execute_result"
    }
   ],
   "source": [
    "from IPython.display import display, Image\n",
    "Image(\"../input/dog-breed-identification/train/000bec180eb18c7604dcecc8fe0dba07.jpg\")"
   ]
  },
  {
   "cell_type": "code",
   "execution_count": 6,
   "metadata": {
    "execution": {
     "iopub.execute_input": "2022-07-23T15:20:35.409505Z",
     "iopub.status.busy": "2022-07-23T15:20:35.409090Z",
     "iopub.status.idle": "2022-07-23T15:20:35.419453Z",
     "shell.execute_reply": "2022-07-23T15:20:35.418733Z",
     "shell.execute_reply.started": "2022-07-23T15:20:35.409467Z"
    }
   },
   "outputs": [
    {
     "data": {
      "text/plain": [
       "['../input/dog-breed-identification/train/000bec180eb18c7604dcecc8fe0dba07.jpg',\n",
       " '../input/dog-breed-identification/train/001513dfcb2ffafc82cccf4d8bbaba97.jpg',\n",
       " '../input/dog-breed-identification/train/001cdf01b096e06d78e9e5112d419397.jpg',\n",
       " '../input/dog-breed-identification/train/00214f311d5d2247d5dfe4fe24b2303d.jpg',\n",
       " '../input/dog-breed-identification/train/0021f9ceb3235effd7fcde7f7538ed62.jpg',\n",
       " '../input/dog-breed-identification/train/002211c81b498ef88e1b40b9abf84e1d.jpg',\n",
       " '../input/dog-breed-identification/train/00290d3e1fdd27226ba27a8ce248ce85.jpg',\n",
       " '../input/dog-breed-identification/train/002a283a315af96eaea0e28e7163b21b.jpg',\n",
       " '../input/dog-breed-identification/train/003df8b8a8b05244b1d920bb6cf451f9.jpg',\n",
       " '../input/dog-breed-identification/train/0042188c895a2f14ef64a918ed9c7b64.jpg']"
      ]
     },
     "execution_count": 6,
     "metadata": {},
     "output_type": "execute_result"
    }
   ],
   "source": [
    "filenames = [ \"../input/dog-breed-identification/train/\" + code + \".jpg\" for code in labels_csv[\"id\"]]\n",
    "\n",
    "filenames[0:10]"
   ]
  },
  {
   "cell_type": "code",
   "execution_count": 7,
   "metadata": {
    "execution": {
     "iopub.execute_input": "2022-07-23T15:20:35.426014Z",
     "iopub.status.busy": "2022-07-23T15:20:35.425621Z",
     "iopub.status.idle": "2022-07-23T15:20:35.432057Z",
     "shell.execute_reply": "2022-07-23T15:20:35.431005Z",
     "shell.execute_reply.started": "2022-07-23T15:20:35.425956Z"
    }
   },
   "outputs": [],
   "source": [
    "import numpy as np\n",
    "labels = labels_csv[\"breed\"].to_numpy() \n"
   ]
  },
  {
   "cell_type": "code",
   "execution_count": 8,
   "metadata": {
    "execution": {
     "iopub.execute_input": "2022-07-23T15:20:35.452886Z",
     "iopub.status.busy": "2022-07-23T15:20:35.452412Z",
     "iopub.status.idle": "2022-07-23T15:20:35.463372Z",
     "shell.execute_reply": "2022-07-23T15:20:35.462277Z",
     "shell.execute_reply.started": "2022-07-23T15:20:35.452805Z"
    }
   },
   "outputs": [
    {
     "data": {
      "text/plain": [
       "0    120\n",
       "dtype: int64"
      ]
     },
     "execution_count": 8,
     "metadata": {},
     "output_type": "execute_result"
    }
   ],
   "source": [
    "df = pd.DataFrame(labels)\n",
    "  \n",
    "df.nunique(dropna = True)"
   ]
  },
  {
   "cell_type": "code",
   "execution_count": 9,
   "metadata": {
    "execution": {
     "iopub.execute_input": "2022-07-23T15:20:35.476684Z",
     "iopub.status.busy": "2022-07-23T15:20:35.476415Z",
     "iopub.status.idle": "2022-07-23T15:20:35.492025Z",
     "shell.execute_reply": "2022-07-23T15:20:35.491165Z",
     "shell.execute_reply.started": "2022-07-23T15:20:35.476629Z"
    }
   },
   "outputs": [],
   "source": [
    "unique_breeds = np.unique(labels)\n"
   ]
  },
  {
   "cell_type": "code",
   "execution_count": 10,
   "metadata": {
    "execution": {
     "iopub.execute_input": "2022-07-23T15:20:35.505849Z",
     "iopub.status.busy": "2022-07-23T15:20:35.505418Z",
     "iopub.status.idle": "2022-07-23T15:20:35.514115Z",
     "shell.execute_reply": "2022-07-23T15:20:35.513023Z",
     "shell.execute_reply.started": "2022-07-23T15:20:35.505773Z"
    }
   },
   "outputs": [
    {
     "name": "stdout",
     "output_type": "stream",
     "text": [
      "boston_bull\n"
     ]
    },
    {
     "data": {
      "text/plain": [
       "array([False, False, False, False, False, False, False, False, False,\n",
       "       False, False, False, False, False, False, False, False, False,\n",
       "       False,  True, False, False, False, False, False, False, False,\n",
       "       False, False, False, False, False, False, False, False, False,\n",
       "       False, False, False, False, False, False, False, False, False,\n",
       "       False, False, False, False, False, False, False, False, False,\n",
       "       False, False, False, False, False, False, False, False, False,\n",
       "       False, False, False, False, False, False, False, False, False,\n",
       "       False, False, False, False, False, False, False, False, False,\n",
       "       False, False, False, False, False, False, False, False, False,\n",
       "       False, False, False, False, False, False, False, False, False,\n",
       "       False, False, False, False, False, False, False, False, False,\n",
       "       False, False, False, False, False, False, False, False, False,\n",
       "       False, False, False])"
      ]
     },
     "execution_count": 10,
     "metadata": {},
     "output_type": "execute_result"
    }
   ],
   "source": [
    "print(labels[0])\n",
    "labels[0] == unique_breeds \n"
   ]
  },
  {
   "cell_type": "code",
   "execution_count": 11,
   "metadata": {
    "execution": {
     "iopub.execute_input": "2022-07-23T15:20:35.532387Z",
     "iopub.status.busy": "2022-07-23T15:20:35.531965Z",
     "iopub.status.idle": "2022-07-23T15:20:35.656184Z",
     "shell.execute_reply": "2022-07-23T15:20:35.655193Z",
     "shell.execute_reply.started": "2022-07-23T15:20:35.532329Z"
    }
   },
   "outputs": [
    {
     "data": {
      "text/plain": [
       "[array([False, False, False, False, False, False, False, False, False,\n",
       "        False, False, False, False, False, False, False, False, False,\n",
       "        False,  True, False, False, False, False, False, False, False,\n",
       "        False, False, False, False, False, False, False, False, False,\n",
       "        False, False, False, False, False, False, False, False, False,\n",
       "        False, False, False, False, False, False, False, False, False,\n",
       "        False, False, False, False, False, False, False, False, False,\n",
       "        False, False, False, False, False, False, False, False, False,\n",
       "        False, False, False, False, False, False, False, False, False,\n",
       "        False, False, False, False, False, False, False, False, False,\n",
       "        False, False, False, False, False, False, False, False, False,\n",
       "        False, False, False, False, False, False, False, False, False,\n",
       "        False, False, False, False, False, False, False, False, False,\n",
       "        False, False, False]),\n",
       " array([False, False, False, False, False, False, False, False, False,\n",
       "        False, False, False, False, False, False, False, False, False,\n",
       "        False, False, False, False, False, False, False, False, False,\n",
       "        False, False, False, False, False, False, False, False, False,\n",
       "        False,  True, False, False, False, False, False, False, False,\n",
       "        False, False, False, False, False, False, False, False, False,\n",
       "        False, False, False, False, False, False, False, False, False,\n",
       "        False, False, False, False, False, False, False, False, False,\n",
       "        False, False, False, False, False, False, False, False, False,\n",
       "        False, False, False, False, False, False, False, False, False,\n",
       "        False, False, False, False, False, False, False, False, False,\n",
       "        False, False, False, False, False, False, False, False, False,\n",
       "        False, False, False, False, False, False, False, False, False,\n",
       "        False, False, False]),\n",
       " array([False, False, False, False, False, False, False, False, False,\n",
       "        False, False, False, False, False, False, False, False, False,\n",
       "        False, False, False, False, False, False, False, False, False,\n",
       "        False, False, False, False, False, False, False, False, False,\n",
       "        False, False, False, False, False, False, False, False, False,\n",
       "        False, False, False, False, False, False, False, False, False,\n",
       "        False, False, False, False, False, False, False, False, False,\n",
       "        False, False, False, False, False, False, False, False, False,\n",
       "        False, False, False, False, False, False, False, False, False,\n",
       "        False, False, False, False,  True, False, False, False, False,\n",
       "        False, False, False, False, False, False, False, False, False,\n",
       "        False, False, False, False, False, False, False, False, False,\n",
       "        False, False, False, False, False, False, False, False, False,\n",
       "        False, False, False]),\n",
       " array([False, False, False, False, False, False, False, False, False,\n",
       "        False, False, False, False, False, False,  True, False, False,\n",
       "        False, False, False, False, False, False, False, False, False,\n",
       "        False, False, False, False, False, False, False, False, False,\n",
       "        False, False, False, False, False, False, False, False, False,\n",
       "        False, False, False, False, False, False, False, False, False,\n",
       "        False, False, False, False, False, False, False, False, False,\n",
       "        False, False, False, False, False, False, False, False, False,\n",
       "        False, False, False, False, False, False, False, False, False,\n",
       "        False, False, False, False, False, False, False, False, False,\n",
       "        False, False, False, False, False, False, False, False, False,\n",
       "        False, False, False, False, False, False, False, False, False,\n",
       "        False, False, False, False, False, False, False, False, False,\n",
       "        False, False, False]),\n",
       " array([False, False, False, False, False, False, False, False, False,\n",
       "        False, False, False, False, False, False, False, False, False,\n",
       "        False, False, False, False, False, False, False, False, False,\n",
       "        False, False, False, False, False, False, False, False, False,\n",
       "        False, False, False, False, False, False, False, False, False,\n",
       "        False, False, False, False,  True, False, False, False, False,\n",
       "        False, False, False, False, False, False, False, False, False,\n",
       "        False, False, False, False, False, False, False, False, False,\n",
       "        False, False, False, False, False, False, False, False, False,\n",
       "        False, False, False, False, False, False, False, False, False,\n",
       "        False, False, False, False, False, False, False, False, False,\n",
       "        False, False, False, False, False, False, False, False, False,\n",
       "        False, False, False, False, False, False, False, False, False,\n",
       "        False, False, False])]"
      ]
     },
     "execution_count": 11,
     "metadata": {},
     "output_type": "execute_result"
    }
   ],
   "source": [
    "boolean_labels = [label == np.array(unique_breeds) for label in labels]\n",
    "boolean_labels[:5]"
   ]
  },
  {
   "cell_type": "code",
   "execution_count": 12,
   "metadata": {
    "execution": {
     "iopub.execute_input": "2022-07-23T15:20:35.658893Z",
     "iopub.status.busy": "2022-07-23T15:20:35.658378Z",
     "iopub.status.idle": "2022-07-23T15:20:35.665721Z",
     "shell.execute_reply": "2022-07-23T15:20:35.664560Z",
     "shell.execute_reply.started": "2022-07-23T15:20:35.658672Z"
    }
   },
   "outputs": [
    {
     "name": "stdout",
     "output_type": "stream",
     "text": [
      "boston_bull\n",
      "(array([19]),)\n",
      "[0 0 0 0 0 0 0 0 0 0 0 0 0 0 0 0 0 0 0 1 0 0 0 0 0 0 0 0 0 0 0 0 0 0 0 0 0\n",
      " 0 0 0 0 0 0 0 0 0 0 0 0 0 0 0 0 0 0 0 0 0 0 0 0 0 0 0 0 0 0 0 0 0 0 0 0 0\n",
      " 0 0 0 0 0 0 0 0 0 0 0 0 0 0 0 0 0 0 0 0 0 0 0 0 0 0 0 0 0 0 0 0 0 0 0 0 0\n",
      " 0 0 0 0 0 0 0 0 0]\n"
     ]
    }
   ],
   "source": [
    "print(labels[0]) # original label\n",
    "print(np.where(unique_breeds == labels[0])) \n",
    "print(boolean_labels[0].astype(int)) "
   ]
  },
  {
   "cell_type": "code",
   "execution_count": 13,
   "metadata": {
    "execution": {
     "iopub.execute_input": "2022-07-23T15:20:35.667664Z",
     "iopub.status.busy": "2022-07-23T15:20:35.667411Z",
     "iopub.status.idle": "2022-07-23T15:20:35.677297Z",
     "shell.execute_reply": "2022-07-23T15:20:35.676339Z",
     "shell.execute_reply.started": "2022-07-23T15:20:35.667615Z"
    }
   },
   "outputs": [
    {
     "name": "stdout",
     "output_type": "stream",
     "text": [
      "10222\n",
      "10222\n"
     ]
    }
   ],
   "source": [
    "X = filenames\n",
    "y = boolean_labels\n",
    "\n",
    "print(len(X))\n",
    "print(len(y))"
   ]
  },
  {
   "cell_type": "code",
   "execution_count": 14,
   "metadata": {
    "execution": {
     "iopub.execute_input": "2022-07-23T15:20:35.678955Z",
     "iopub.status.busy": "2022-07-23T15:20:35.678555Z",
     "iopub.status.idle": "2022-07-23T15:20:35.701692Z",
     "shell.execute_reply": "2022-07-23T15:20:35.701007Z",
     "shell.execute_reply.started": "2022-07-23T15:20:35.678791Z"
    }
   },
   "outputs": [
    {
     "data": {
      "text/plain": [
       "(8177, 8177, 2045, 2045)"
      ]
     },
     "execution_count": 14,
     "metadata": {},
     "output_type": "execute_result"
    }
   ],
   "source": [
    "from sklearn.model_selection import train_test_split\n",
    "\n",
    "X_train, X_val, y_train, y_val = train_test_split(X,\n",
    "                                                  y, \n",
    "                                                  test_size=0.2,\n",
    "                                                  random_state=42)\n",
    "\n",
    "len(X_train), len(y_train), len(X_val), len(y_val)"
   ]
  },
  {
   "cell_type": "code",
   "execution_count": 15,
   "metadata": {
    "execution": {
     "iopub.execute_input": "2022-07-23T15:20:35.704016Z",
     "iopub.status.busy": "2022-07-23T15:20:35.703601Z",
     "iopub.status.idle": "2022-07-23T15:20:35.712313Z",
     "shell.execute_reply": "2022-07-23T15:20:35.711673Z",
     "shell.execute_reply.started": "2022-07-23T15:20:35.703973Z"
    }
   },
   "outputs": [
    {
     "data": {
      "text/plain": [
       "(['../input/dog-breed-identification/train/ad019e394b55406f412b9a03899d5705.jpg',\n",
       "  '../input/dog-breed-identification/train/c77266278126119fe02a3550dd0c3c1c.jpg',\n",
       "  '../input/dog-breed-identification/train/ffe5f6d8e2bff356e9482a80a6e29aac.jpg',\n",
       "  '../input/dog-breed-identification/train/75dbdbf6814e6c72a7cab75c73a5acd7.jpg',\n",
       "  '../input/dog-breed-identification/train/16fdb4a145a7f5695a264ba980e23bc3.jpg'],\n",
       " [array([False, False, False, False, False, False, False, False, False,\n",
       "         False, False, False, False, False, False, False, False, False,\n",
       "         False, False, False, False, False, False, False, False, False,\n",
       "         False, False, False, False, False, False, False, False, False,\n",
       "         False, False, False, False, False, False, False, False, False,\n",
       "         False, False, False, False, False, False, False, False, False,\n",
       "         False, False, False, False, False, False, False, False, False,\n",
       "         False, False, False, False, False, False, False, False, False,\n",
       "         False, False, False, False, False, False, False, False, False,\n",
       "         False, False, False, False, False, False, False, False, False,\n",
       "         False, False, False, False, False, False, False, False, False,\n",
       "         False, False, False, False, False, False, False, False, False,\n",
       "         False, False, False, False, False, False, False,  True, False,\n",
       "         False, False, False]),\n",
       "  array([False, False, False, False, False, False, False, False, False,\n",
       "         False, False, False, False, False, False, False, False, False,\n",
       "         False, False, False, False, False, False, False, False, False,\n",
       "         False, False, False, False, False, False, False, False, False,\n",
       "         False, False, False, False, False, False, False, False, False,\n",
       "         False, False, False, False, False, False, False, False, False,\n",
       "         False, False, False, False, False, False, False, False, False,\n",
       "         False, False, False, False, False, False, False, False, False,\n",
       "         False, False, False, False, False, False, False,  True, False,\n",
       "         False, False, False, False, False, False, False, False, False,\n",
       "         False, False, False, False, False, False, False, False, False,\n",
       "         False, False, False, False, False, False, False, False, False,\n",
       "         False, False, False, False, False, False, False, False, False,\n",
       "         False, False, False])])"
      ]
     },
     "execution_count": 15,
     "metadata": {},
     "output_type": "execute_result"
    }
   ],
   "source": [
    "X_train[:5], y_train[:2]"
   ]
  },
  {
   "cell_type": "code",
   "execution_count": 16,
   "metadata": {
    "execution": {
     "iopub.execute_input": "2022-07-23T15:20:35.714463Z",
     "iopub.status.busy": "2022-07-23T15:20:35.713964Z",
     "iopub.status.idle": "2022-07-23T15:20:35.727264Z",
     "shell.execute_reply": "2022-07-23T15:20:35.726028Z",
     "shell.execute_reply.started": "2022-07-23T15:20:35.714410Z"
    }
   },
   "outputs": [
    {
     "data": {
      "text/plain": [
       "(293, 400, 3)"
      ]
     },
     "execution_count": 16,
     "metadata": {},
     "output_type": "execute_result"
    }
   ],
   "source": [
    "from matplotlib.pyplot import imread\n",
    "image = imread(filenames[40]) # read in an image\n",
    "image.shape"
   ]
  },
  {
   "cell_type": "code",
   "execution_count": 17,
   "metadata": {
    "execution": {
     "iopub.execute_input": "2022-07-23T15:20:35.729330Z",
     "iopub.status.busy": "2022-07-23T15:20:35.728835Z",
     "iopub.status.idle": "2022-07-23T15:20:35.737093Z",
     "shell.execute_reply": "2022-07-23T15:20:35.736268Z",
     "shell.execute_reply.started": "2022-07-23T15:20:35.729130Z"
    }
   },
   "outputs": [
    {
     "data": {
      "text/plain": [
       "<tf.Tensor: shape=(400, 3), dtype=uint8, numpy=\n",
       "array([[255, 246, 252],\n",
       "       [254, 237, 243],\n",
       "       [253, 237, 240],\n",
       "       ...,\n",
       "       [112, 164,  89],\n",
       "       [ 99, 151,  79],\n",
       "       [ 94, 146,  74]], dtype=uint8)>"
      ]
     },
     "execution_count": 17,
     "metadata": {},
     "output_type": "execute_result"
    }
   ],
   "source": [
    "tf.constant(image)[0]"
   ]
  },
  {
   "cell_type": "code",
   "execution_count": 18,
   "metadata": {
    "execution": {
     "iopub.execute_input": "2022-07-23T15:20:35.739268Z",
     "iopub.status.busy": "2022-07-23T15:20:35.738748Z",
     "iopub.status.idle": "2022-07-23T15:20:35.746567Z",
     "shell.execute_reply": "2022-07-23T15:20:35.745860Z",
     "shell.execute_reply.started": "2022-07-23T15:20:35.739214Z"
    }
   },
   "outputs": [],
   "source": [
    "IMG_SIZE = 224\n",
    "\n",
    "def process_image(image_path):\n",
    "\n",
    "  image = tf.io.read_file(image_path)\n",
    "  image = tf.image.decode_jpeg(image, channels=3)\n",
    "  image = tf.image.convert_image_dtype(image, tf.float32)\n",
    "  image = tf.image.resize(image, size=[IMG_SIZE, IMG_SIZE])\n",
    "  return image"
   ]
  },
  {
   "cell_type": "code",
   "execution_count": 19,
   "metadata": {
    "execution": {
     "iopub.execute_input": "2022-07-23T15:20:35.749551Z",
     "iopub.status.busy": "2022-07-23T15:20:35.749076Z",
     "iopub.status.idle": "2022-07-23T15:20:35.757583Z",
     "shell.execute_reply": "2022-07-23T15:20:35.756857Z",
     "shell.execute_reply.started": "2022-07-23T15:20:35.749356Z"
    }
   },
   "outputs": [],
   "source": [
    "# Create a simple function to return a tuple (image, label)\n",
    "def imagelabel(image_path, label):\n",
    " \n",
    "  image = process_image(image_path)\n",
    "  return image, label"
   ]
  },
  {
   "cell_type": "code",
   "execution_count": 20,
   "metadata": {
    "execution": {
     "iopub.execute_input": "2022-07-23T15:20:35.759972Z",
     "iopub.status.busy": "2022-07-23T15:20:35.759390Z",
     "iopub.status.idle": "2022-07-23T15:20:35.769464Z",
     "shell.execute_reply": "2022-07-23T15:20:35.768819Z",
     "shell.execute_reply.started": "2022-07-23T15:20:35.759906Z"
    }
   },
   "outputs": [],
   "source": [
    "BATCH_SIZE = 32\n",
    "\n",
    "def create_data_batches(x, y=None, batch_size=BATCH_SIZE, valid_data=False, test_data=False):\n",
    " \n",
    "  if valid_data:\n",
    "    print(\"Creating validation data batches...\")\n",
    "    data = tf.data.Dataset.from_tensor_slices((tf.constant(x), \n",
    "                                               tf.constant(y))) \n",
    "    data_batch = data.map(imagelabel).batch(BATCH_SIZE)\n",
    "    return data_batch\n",
    "\n",
    "  else:\n",
    "   \n",
    "    print(\"Creating training data batches...\")\n",
    "    data = tf.data.Dataset.from_tensor_slices((tf.constant(x), # filepaths\n",
    "                                              tf.constant(y))) # labels\n",
    "    \n",
    "    \n",
    "\n",
    "    data = data.map(imagelabel)\n",
    "    data_batch = data.batch(BATCH_SIZE)\n",
    "  return data_batch"
   ]
  },
  {
   "cell_type": "code",
   "execution_count": 21,
   "metadata": {
    "execution": {
     "iopub.execute_input": "2022-07-23T15:20:35.776650Z",
     "iopub.status.busy": "2022-07-23T15:20:35.776255Z",
     "iopub.status.idle": "2022-07-23T15:20:36.051934Z",
     "shell.execute_reply": "2022-07-23T15:20:36.051041Z",
     "shell.execute_reply.started": "2022-07-23T15:20:35.776609Z"
    }
   },
   "outputs": [
    {
     "name": "stdout",
     "output_type": "stream",
     "text": [
      "Creating training data batches...\n",
      "Creating validation data batches...\n"
     ]
    }
   ],
   "source": [
    "train_data = create_data_batches(X_train, y_train)\n",
    "val_data = create_data_batches(X_val, y_val, valid_data=True)"
   ]
  },
  {
   "cell_type": "code",
   "execution_count": 22,
   "metadata": {
    "execution": {
     "iopub.execute_input": "2022-07-23T15:20:36.054151Z",
     "iopub.status.busy": "2022-07-23T15:20:36.053867Z",
     "iopub.status.idle": "2022-07-23T15:20:36.059826Z",
     "shell.execute_reply": "2022-07-23T15:20:36.058748Z",
     "shell.execute_reply.started": "2022-07-23T15:20:36.054107Z"
    }
   },
   "outputs": [
    {
     "data": {
      "text/plain": [
       "((TensorSpec(shape=(None, 224, 224, 3), dtype=tf.float32, name=None),\n",
       "  TensorSpec(shape=(None, 120), dtype=tf.bool, name=None)),\n",
       " (TensorSpec(shape=(None, 224, 224, 3), dtype=tf.float32, name=None),\n",
       "  TensorSpec(shape=(None, 120), dtype=tf.bool, name=None)))"
      ]
     },
     "execution_count": 22,
     "metadata": {},
     "output_type": "execute_result"
    }
   ],
   "source": [
    "train_data.element_spec, val_data.element_spec"
   ]
  },
  {
   "cell_type": "code",
   "execution_count": 23,
   "metadata": {
    "execution": {
     "iopub.execute_input": "2022-07-23T15:20:36.061213Z",
     "iopub.status.busy": "2022-07-23T15:20:36.060986Z",
     "iopub.status.idle": "2022-07-23T15:20:36.069372Z",
     "shell.execute_reply": "2022-07-23T15:20:36.068682Z",
     "shell.execute_reply.started": "2022-07-23T15:20:36.061170Z"
    }
   },
   "outputs": [],
   "source": [
    "INPUT_SHAPE = [None, IMG_SIZE, IMG_SIZE, 3] # batch, height, width, colour channels\n",
    "\n",
    "OUTPUT_SHAPE = len(unique_breeds) # number of unique labels\n",
    "\n",
    "MODEL_URL = \"https://tfhub.dev/tensorflow/efficientnet/b0/classification/1\""
   ]
  },
  {
   "cell_type": "code",
   "execution_count": 24,
   "metadata": {
    "execution": {
     "iopub.execute_input": "2022-07-23T15:20:36.070969Z",
     "iopub.status.busy": "2022-07-23T15:20:36.070632Z",
     "iopub.status.idle": "2022-07-23T15:20:36.080192Z",
     "shell.execute_reply": "2022-07-23T15:20:36.079428Z",
     "shell.execute_reply.started": "2022-07-23T15:20:36.070914Z"
    }
   },
   "outputs": [],
   "source": [
    "def createamodel(input_shape=INPUT_SHAPE, output_shape=OUTPUT_SHAPE, model_url=MODEL_URL):\n",
    "\n",
    "  model = tf.keras.Sequential([\n",
    "    hub.KerasLayer(MODEL_URL), \n",
    "    tf.keras.layers.Dense(units=OUTPUT_SHAPE,activation=\"softmax\") \n",
    "  ])\n",
    "\n",
    "  model.compile(\n",
    "      loss=tf.keras.losses.CategoricalCrossentropy(), #evalution criteria\n",
    "      optimizer=tf.keras.optimizers.SGD(), \n",
    "      metrics=[\"accuracy\"] \n",
    ")\n",
    "\n",
    "  model.build(INPUT_SHAPE) \n",
    "  \n",
    "  return model"
   ]
  },
  {
   "cell_type": "code",
   "execution_count": 25,
   "metadata": {
    "execution": {
     "iopub.execute_input": "2022-07-23T15:20:36.082819Z",
     "iopub.status.busy": "2022-07-23T15:20:36.082332Z",
     "iopub.status.idle": "2022-07-23T15:20:36.090461Z",
     "shell.execute_reply": "2022-07-23T15:20:36.089648Z",
     "shell.execute_reply.started": "2022-07-23T15:20:36.082779Z"
    }
   },
   "outputs": [],
   "source": [
    "# model = createamodel()\n",
    "# model.summary()"
   ]
  }
 ],
 "metadata": {
  "kernelspec": {
   "display_name": "Python 3",
   "language": "python",
   "name": "python3"
  },
  "language_info": {
   "codemirror_mode": {
    "name": "ipython",
    "version": 3
   },
   "file_extension": ".py",
   "mimetype": "text/x-python",
   "name": "python",
   "nbconvert_exporter": "python",
   "pygments_lexer": "ipython3",
   "version": "3.6.6"
  }
 },
 "nbformat": 4,
 "nbformat_minor": 4
}
