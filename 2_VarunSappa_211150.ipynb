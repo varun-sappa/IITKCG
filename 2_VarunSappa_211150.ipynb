{
 "cells": [
  {
   "cell_type": "code",
   "execution_count": 1,
   "id": "16676e0b",
   "metadata": {
    "execution": {
     "iopub.execute_input": "2022-07-23T14:34:57.813870Z",
     "iopub.status.busy": "2022-07-23T14:34:57.813315Z",
     "iopub.status.idle": "2022-07-23T14:34:59.243350Z",
     "shell.execute_reply": "2022-07-23T14:34:59.242242Z"
    },
    "papermill": {
     "duration": 1.452755,
     "end_time": "2022-07-23T14:34:59.246546",
     "exception": false,
     "start_time": "2022-07-23T14:34:57.793791",
     "status": "completed"
    },
    "tags": []
   },
   "outputs": [],
   "source": [
    "import pandas as pd\n",
    "import numpy as np\n",
    "\n",
    "from sklearn.metrics import confusion_matrix\n",
    "from sklearn import preprocessing    \n",
    "le = preprocessing.LabelEncoder()\n",
    "\n",
    "import matplotlib.pyplot as plt\n",
    "from matplotlib.pyplot import figure\n",
    "import seaborn as sns\n",
    "%matplotlib inline \n",
    "import warnings\n",
    "warnings.filterwarnings('ignore')\n",
    "from sklearn.model_selection import train_test_split\n",
    "from xgboost import XGBClassifier\n",
    "from sklearn.model_selection import GridSearchCV"
   ]
  },
  {
   "cell_type": "code",
   "execution_count": 2,
   "id": "b6d49635",
   "metadata": {
    "execution": {
     "iopub.execute_input": "2022-07-23T14:34:59.279066Z",
     "iopub.status.busy": "2022-07-23T14:34:59.278736Z",
     "iopub.status.idle": "2022-07-23T14:34:59.350619Z",
     "shell.execute_reply": "2022-07-23T14:34:59.349099Z"
    },
    "papermill": {
     "duration": 0.091658,
     "end_time": "2022-07-23T14:34:59.353681",
     "exception": false,
     "start_time": "2022-07-23T14:34:59.262023",
     "status": "completed"
    },
    "tags": []
   },
   "outputs": [],
   "source": [
    "train_df = pd.read_csv('../input/spaceship-titanic/train.csv')\n",
    "test_df  = pd.read_csv('../input/spaceship-titanic/test.csv')"
   ]
  },
  {
   "cell_type": "code",
   "execution_count": 3,
   "id": "aaf6d3bc",
   "metadata": {
    "execution": {
     "iopub.execute_input": "2022-07-23T14:34:59.387084Z",
     "iopub.status.busy": "2022-07-23T14:34:59.386793Z",
     "iopub.status.idle": "2022-07-23T14:34:59.420495Z",
     "shell.execute_reply": "2022-07-23T14:34:59.418355Z"
    },
    "papermill": {
     "duration": 0.053006,
     "end_time": "2022-07-23T14:34:59.423441",
     "exception": false,
     "start_time": "2022-07-23T14:34:59.370435",
     "status": "completed"
    },
    "tags": []
   },
   "outputs": [
    {
     "data": {
      "text/html": [
       "<div>\n",
       "<style scoped>\n",
       "    .dataframe tbody tr th:only-of-type {\n",
       "        vertical-align: middle;\n",
       "    }\n",
       "\n",
       "    .dataframe tbody tr th {\n",
       "        vertical-align: top;\n",
       "    }\n",
       "\n",
       "    .dataframe thead th {\n",
       "        text-align: right;\n",
       "    }\n",
       "</style>\n",
       "<table border=\"1\" class=\"dataframe\">\n",
       "  <thead>\n",
       "    <tr style=\"text-align: right;\">\n",
       "      <th></th>\n",
       "      <th>PassengerId</th>\n",
       "      <th>HomePlanet</th>\n",
       "      <th>CryoSleep</th>\n",
       "      <th>Cabin</th>\n",
       "      <th>Destination</th>\n",
       "      <th>Age</th>\n",
       "      <th>VIP</th>\n",
       "      <th>RoomService</th>\n",
       "      <th>FoodCourt</th>\n",
       "      <th>ShoppingMall</th>\n",
       "      <th>Spa</th>\n",
       "      <th>VRDeck</th>\n",
       "      <th>Name</th>\n",
       "      <th>Transported</th>\n",
       "    </tr>\n",
       "  </thead>\n",
       "  <tbody>\n",
       "    <tr>\n",
       "      <th>0</th>\n",
       "      <td>0001_01</td>\n",
       "      <td>Europa</td>\n",
       "      <td>False</td>\n",
       "      <td>B/0/P</td>\n",
       "      <td>TRAPPIST-1e</td>\n",
       "      <td>39.0</td>\n",
       "      <td>False</td>\n",
       "      <td>0.0</td>\n",
       "      <td>0.0</td>\n",
       "      <td>0.0</td>\n",
       "      <td>0.0</td>\n",
       "      <td>0.0</td>\n",
       "      <td>Maham Ofracculy</td>\n",
       "      <td>False</td>\n",
       "    </tr>\n",
       "    <tr>\n",
       "      <th>1</th>\n",
       "      <td>0002_01</td>\n",
       "      <td>Earth</td>\n",
       "      <td>False</td>\n",
       "      <td>F/0/S</td>\n",
       "      <td>TRAPPIST-1e</td>\n",
       "      <td>24.0</td>\n",
       "      <td>False</td>\n",
       "      <td>109.0</td>\n",
       "      <td>9.0</td>\n",
       "      <td>25.0</td>\n",
       "      <td>549.0</td>\n",
       "      <td>44.0</td>\n",
       "      <td>Juanna Vines</td>\n",
       "      <td>True</td>\n",
       "    </tr>\n",
       "    <tr>\n",
       "      <th>2</th>\n",
       "      <td>0003_01</td>\n",
       "      <td>Europa</td>\n",
       "      <td>False</td>\n",
       "      <td>A/0/S</td>\n",
       "      <td>TRAPPIST-1e</td>\n",
       "      <td>58.0</td>\n",
       "      <td>True</td>\n",
       "      <td>43.0</td>\n",
       "      <td>3576.0</td>\n",
       "      <td>0.0</td>\n",
       "      <td>6715.0</td>\n",
       "      <td>49.0</td>\n",
       "      <td>Altark Susent</td>\n",
       "      <td>False</td>\n",
       "    </tr>\n",
       "    <tr>\n",
       "      <th>3</th>\n",
       "      <td>0003_02</td>\n",
       "      <td>Europa</td>\n",
       "      <td>False</td>\n",
       "      <td>A/0/S</td>\n",
       "      <td>TRAPPIST-1e</td>\n",
       "      <td>33.0</td>\n",
       "      <td>False</td>\n",
       "      <td>0.0</td>\n",
       "      <td>1283.0</td>\n",
       "      <td>371.0</td>\n",
       "      <td>3329.0</td>\n",
       "      <td>193.0</td>\n",
       "      <td>Solam Susent</td>\n",
       "      <td>False</td>\n",
       "    </tr>\n",
       "    <tr>\n",
       "      <th>4</th>\n",
       "      <td>0004_01</td>\n",
       "      <td>Earth</td>\n",
       "      <td>False</td>\n",
       "      <td>F/1/S</td>\n",
       "      <td>TRAPPIST-1e</td>\n",
       "      <td>16.0</td>\n",
       "      <td>False</td>\n",
       "      <td>303.0</td>\n",
       "      <td>70.0</td>\n",
       "      <td>151.0</td>\n",
       "      <td>565.0</td>\n",
       "      <td>2.0</td>\n",
       "      <td>Willy Santantines</td>\n",
       "      <td>True</td>\n",
       "    </tr>\n",
       "  </tbody>\n",
       "</table>\n",
       "</div>"
      ],
      "text/plain": [
       "  PassengerId HomePlanet CryoSleep  Cabin  Destination   Age    VIP  \\\n",
       "0     0001_01     Europa     False  B/0/P  TRAPPIST-1e  39.0  False   \n",
       "1     0002_01      Earth     False  F/0/S  TRAPPIST-1e  24.0  False   \n",
       "2     0003_01     Europa     False  A/0/S  TRAPPIST-1e  58.0   True   \n",
       "3     0003_02     Europa     False  A/0/S  TRAPPIST-1e  33.0  False   \n",
       "4     0004_01      Earth     False  F/1/S  TRAPPIST-1e  16.0  False   \n",
       "\n",
       "   RoomService  FoodCourt  ShoppingMall     Spa  VRDeck               Name  \\\n",
       "0          0.0        0.0           0.0     0.0     0.0    Maham Ofracculy   \n",
       "1        109.0        9.0          25.0   549.0    44.0       Juanna Vines   \n",
       "2         43.0     3576.0           0.0  6715.0    49.0      Altark Susent   \n",
       "3          0.0     1283.0         371.0  3329.0   193.0       Solam Susent   \n",
       "4        303.0       70.0         151.0   565.0     2.0  Willy Santantines   \n",
       "\n",
       "   Transported  \n",
       "0        False  \n",
       "1         True  \n",
       "2        False  \n",
       "3        False  \n",
       "4         True  "
      ]
     },
     "execution_count": 3,
     "metadata": {},
     "output_type": "execute_result"
    }
   ],
   "source": [
    "train_df.head(5)"
   ]
  },
  {
   "cell_type": "code",
   "execution_count": 4,
   "id": "74ac2a14",
   "metadata": {
    "execution": {
     "iopub.execute_input": "2022-07-23T14:34:59.457365Z",
     "iopub.status.busy": "2022-07-23T14:34:59.457033Z",
     "iopub.status.idle": "2022-07-23T14:34:59.465568Z",
     "shell.execute_reply": "2022-07-23T14:34:59.464358Z"
    },
    "papermill": {
     "duration": 0.029134,
     "end_time": "2022-07-23T14:34:59.468162",
     "exception": false,
     "start_time": "2022-07-23T14:34:59.439028",
     "status": "completed"
    },
    "tags": []
   },
   "outputs": [
    {
     "data": {
      "text/plain": [
       "(8693, 14)"
      ]
     },
     "execution_count": 4,
     "metadata": {},
     "output_type": "execute_result"
    }
   ],
   "source": [
    "train_df.shape"
   ]
  },
  {
   "cell_type": "code",
   "execution_count": 5,
   "id": "1dfda582",
   "metadata": {
    "execution": {
     "iopub.execute_input": "2022-07-23T14:34:59.503568Z",
     "iopub.status.busy": "2022-07-23T14:34:59.501648Z",
     "iopub.status.idle": "2022-07-23T14:34:59.533880Z",
     "shell.execute_reply": "2022-07-23T14:34:59.531706Z"
    },
    "papermill": {
     "duration": 0.053124,
     "end_time": "2022-07-23T14:34:59.537189",
     "exception": false,
     "start_time": "2022-07-23T14:34:59.484065",
     "status": "completed"
    },
    "tags": []
   },
   "outputs": [
    {
     "name": "stdout",
     "output_type": "stream",
     "text": [
      "<class 'pandas.core.frame.DataFrame'>\n",
      "RangeIndex: 8693 entries, 0 to 8692\n",
      "Data columns (total 14 columns):\n",
      " #   Column        Non-Null Count  Dtype  \n",
      "---  ------        --------------  -----  \n",
      " 0   PassengerId   8693 non-null   object \n",
      " 1   HomePlanet    8492 non-null   object \n",
      " 2   CryoSleep     8476 non-null   object \n",
      " 3   Cabin         8494 non-null   object \n",
      " 4   Destination   8511 non-null   object \n",
      " 5   Age           8514 non-null   float64\n",
      " 6   VIP           8490 non-null   object \n",
      " 7   RoomService   8512 non-null   float64\n",
      " 8   FoodCourt     8510 non-null   float64\n",
      " 9   ShoppingMall  8485 non-null   float64\n",
      " 10  Spa           8510 non-null   float64\n",
      " 11  VRDeck        8505 non-null   float64\n",
      " 12  Name          8493 non-null   object \n",
      " 13  Transported   8693 non-null   bool   \n",
      "dtypes: bool(1), float64(6), object(7)\n",
      "memory usage: 891.5+ KB\n"
     ]
    }
   ],
   "source": [
    "train_df.info()"
   ]
  },
  {
   "cell_type": "code",
   "execution_count": 6,
   "id": "6a16f9d4",
   "metadata": {
    "execution": {
     "iopub.execute_input": "2022-07-23T14:34:59.571185Z",
     "iopub.status.busy": "2022-07-23T14:34:59.570870Z",
     "iopub.status.idle": "2022-07-23T14:34:59.607773Z",
     "shell.execute_reply": "2022-07-23T14:34:59.606360Z"
    },
    "papermill": {
     "duration": 0.057419,
     "end_time": "2022-07-23T14:34:59.610807",
     "exception": false,
     "start_time": "2022-07-23T14:34:59.553388",
     "status": "completed"
    },
    "tags": []
   },
   "outputs": [
    {
     "data": {
      "text/html": [
       "<div>\n",
       "<style scoped>\n",
       "    .dataframe tbody tr th:only-of-type {\n",
       "        vertical-align: middle;\n",
       "    }\n",
       "\n",
       "    .dataframe tbody tr th {\n",
       "        vertical-align: top;\n",
       "    }\n",
       "\n",
       "    .dataframe thead th {\n",
       "        text-align: right;\n",
       "    }\n",
       "</style>\n",
       "<table border=\"1\" class=\"dataframe\">\n",
       "  <thead>\n",
       "    <tr style=\"text-align: right;\">\n",
       "      <th></th>\n",
       "      <th>Age</th>\n",
       "      <th>RoomService</th>\n",
       "      <th>FoodCourt</th>\n",
       "      <th>ShoppingMall</th>\n",
       "      <th>Spa</th>\n",
       "      <th>VRDeck</th>\n",
       "    </tr>\n",
       "  </thead>\n",
       "  <tbody>\n",
       "    <tr>\n",
       "      <th>count</th>\n",
       "      <td>8514.000000</td>\n",
       "      <td>8512.000000</td>\n",
       "      <td>8510.000000</td>\n",
       "      <td>8485.000000</td>\n",
       "      <td>8510.000000</td>\n",
       "      <td>8505.000000</td>\n",
       "    </tr>\n",
       "    <tr>\n",
       "      <th>mean</th>\n",
       "      <td>28.827930</td>\n",
       "      <td>224.687617</td>\n",
       "      <td>458.077203</td>\n",
       "      <td>173.729169</td>\n",
       "      <td>311.138778</td>\n",
       "      <td>304.854791</td>\n",
       "    </tr>\n",
       "    <tr>\n",
       "      <th>std</th>\n",
       "      <td>14.489021</td>\n",
       "      <td>666.717663</td>\n",
       "      <td>1611.489240</td>\n",
       "      <td>604.696458</td>\n",
       "      <td>1136.705535</td>\n",
       "      <td>1145.717189</td>\n",
       "    </tr>\n",
       "    <tr>\n",
       "      <th>min</th>\n",
       "      <td>0.000000</td>\n",
       "      <td>0.000000</td>\n",
       "      <td>0.000000</td>\n",
       "      <td>0.000000</td>\n",
       "      <td>0.000000</td>\n",
       "      <td>0.000000</td>\n",
       "    </tr>\n",
       "    <tr>\n",
       "      <th>25%</th>\n",
       "      <td>19.000000</td>\n",
       "      <td>0.000000</td>\n",
       "      <td>0.000000</td>\n",
       "      <td>0.000000</td>\n",
       "      <td>0.000000</td>\n",
       "      <td>0.000000</td>\n",
       "    </tr>\n",
       "    <tr>\n",
       "      <th>50%</th>\n",
       "      <td>27.000000</td>\n",
       "      <td>0.000000</td>\n",
       "      <td>0.000000</td>\n",
       "      <td>0.000000</td>\n",
       "      <td>0.000000</td>\n",
       "      <td>0.000000</td>\n",
       "    </tr>\n",
       "    <tr>\n",
       "      <th>75%</th>\n",
       "      <td>38.000000</td>\n",
       "      <td>47.000000</td>\n",
       "      <td>76.000000</td>\n",
       "      <td>27.000000</td>\n",
       "      <td>59.000000</td>\n",
       "      <td>46.000000</td>\n",
       "    </tr>\n",
       "    <tr>\n",
       "      <th>max</th>\n",
       "      <td>79.000000</td>\n",
       "      <td>14327.000000</td>\n",
       "      <td>29813.000000</td>\n",
       "      <td>23492.000000</td>\n",
       "      <td>22408.000000</td>\n",
       "      <td>24133.000000</td>\n",
       "    </tr>\n",
       "  </tbody>\n",
       "</table>\n",
       "</div>"
      ],
      "text/plain": [
       "               Age   RoomService     FoodCourt  ShoppingMall           Spa  \\\n",
       "count  8514.000000   8512.000000   8510.000000   8485.000000   8510.000000   \n",
       "mean     28.827930    224.687617    458.077203    173.729169    311.138778   \n",
       "std      14.489021    666.717663   1611.489240    604.696458   1136.705535   \n",
       "min       0.000000      0.000000      0.000000      0.000000      0.000000   \n",
       "25%      19.000000      0.000000      0.000000      0.000000      0.000000   \n",
       "50%      27.000000      0.000000      0.000000      0.000000      0.000000   \n",
       "75%      38.000000     47.000000     76.000000     27.000000     59.000000   \n",
       "max      79.000000  14327.000000  29813.000000  23492.000000  22408.000000   \n",
       "\n",
       "             VRDeck  \n",
       "count   8505.000000  \n",
       "mean     304.854791  \n",
       "std     1145.717189  \n",
       "min        0.000000  \n",
       "25%        0.000000  \n",
       "50%        0.000000  \n",
       "75%       46.000000  \n",
       "max    24133.000000  "
      ]
     },
     "execution_count": 6,
     "metadata": {},
     "output_type": "execute_result"
    }
   ],
   "source": [
    "train_df.describe()"
   ]
  },
  {
   "cell_type": "code",
   "execution_count": 7,
   "id": "66732c00",
   "metadata": {
    "execution": {
     "iopub.execute_input": "2022-07-23T14:34:59.644457Z",
     "iopub.status.busy": "2022-07-23T14:34:59.644152Z",
     "iopub.status.idle": "2022-07-23T14:34:59.665789Z",
     "shell.execute_reply": "2022-07-23T14:34:59.663814Z"
    },
    "papermill": {
     "duration": 0.041416,
     "end_time": "2022-07-23T14:34:59.668251",
     "exception": false,
     "start_time": "2022-07-23T14:34:59.626835",
     "status": "completed"
    },
    "tags": []
   },
   "outputs": [
    {
     "name": "stdout",
     "output_type": "stream",
     "text": [
      "No.of.unique values in each column :\n",
      " PassengerId     8693\n",
      "HomePlanet         3\n",
      "CryoSleep          2\n",
      "Cabin           6560\n",
      "Destination        3\n",
      "Age               80\n",
      "VIP                2\n",
      "RoomService     1273\n",
      "FoodCourt       1507\n",
      "ShoppingMall    1115\n",
      "Spa             1327\n",
      "VRDeck          1306\n",
      "Name            8473\n",
      "Transported        2\n",
      "dtype: int64\n"
     ]
    }
   ],
   "source": [
    "n = train_df.nunique(axis=0)  \n",
    "print(\"No.of.unique values in each column :\\n\", n)"
   ]
  },
  {
   "cell_type": "code",
   "execution_count": 8,
   "id": "acd83548",
   "metadata": {
    "execution": {
     "iopub.execute_input": "2022-07-23T14:34:59.701405Z",
     "iopub.status.busy": "2022-07-23T14:34:59.701095Z",
     "iopub.status.idle": "2022-07-23T14:35:00.167660Z",
     "shell.execute_reply": "2022-07-23T14:35:00.166287Z"
    },
    "papermill": {
     "duration": 0.485973,
     "end_time": "2022-07-23T14:35:00.170472",
     "exception": false,
     "start_time": "2022-07-23T14:34:59.684499",
     "status": "completed"
    },
    "tags": []
   },
   "outputs": [
    {
     "data": {
      "text/plain": [
       "<AxesSubplot:xlabel='Age', ylabel='Count'>"
      ]
     },
     "execution_count": 8,
     "metadata": {},
     "output_type": "execute_result"
    },
    {
     "data": {
      "image/png": "[encoded data removed]",
      "text/plain": [
       "<Figure size 432x288 with 1 Axes>"
      ]
     },
     "metadata": {
      "needs_background": "light"
     },
     "output_type": "display_data"
    }
   ],
   "source": [
    "sns.histplot(x='Age', hue='Transported', data=train_df, bins=20, multiple=\"stack\", kde=True)"
   ]
  },
  {
   "cell_type": "code",
   "execution_count": 9,
   "id": "7c984f76",
   "metadata": {
    "execution": {
     "iopub.execute_input": "2022-07-23T14:35:00.205484Z",
     "iopub.status.busy": "2022-07-23T14:35:00.205175Z",
     "iopub.status.idle": "2022-07-23T14:35:01.050331Z",
     "shell.execute_reply": "2022-07-23T14:35:01.048962Z"
    },
    "papermill": {
     "duration": 0.865415,
     "end_time": "2022-07-23T14:35:01.052899",
     "exception": false,
     "start_time": "2022-07-23T14:35:00.187484",
     "status": "completed"
    },
    "tags": []
   },
   "outputs": [
    {
     "data": {
      "text/plain": [
       "<seaborn.axisgrid.FacetGrid at 0x7fcd888ecc50>"
      ]
     },
     "execution_count": 9,
     "metadata": {},
     "output_type": "execute_result"
    },
    {
     "data": {
      "image/png": "[encoded data removed]",
      "text/plain": [
       "<Figure size 466.875x360 with 1 Axes>"
      ]
     },
     "metadata": {
      "needs_background": "light"
     },
     "output_type": "display_data"
    }
   ],
   "source": [
    "sns.catplot(y=\"Age\", x=\"HomePlanet\", hue=\"Destination\", kind=\"bar\", data=train_df)"
   ]
  },
  {
   "cell_type": "code",
   "execution_count": 10,
   "id": "6b07e5a3",
   "metadata": {
    "execution": {
     "iopub.execute_input": "2022-07-23T14:35:01.089779Z",
     "iopub.status.busy": "2022-07-23T14:35:01.087761Z",
     "iopub.status.idle": "2022-07-23T14:35:01.308649Z",
     "shell.execute_reply": "2022-07-23T14:35:01.307258Z"
    },
    "papermill": {
     "duration": 0.24143,
     "end_time": "2022-07-23T14:35:01.311559",
     "exception": false,
     "start_time": "2022-07-23T14:35:01.070129",
     "status": "completed"
    },
    "tags": []
   },
   "outputs": [
    {
     "data": {
      "text/plain": [
       "<AxesSubplot:xlabel='HomePlanet', ylabel='count'>"
      ]
     },
     "execution_count": 10,
     "metadata": {},
     "output_type": "execute_result"
    },
    {
     "data": {
      "image/png": "[encoded data removed]",
      "text/plain": [
       "<Figure size 432x288 with 1 Axes>"
      ]
     },
     "metadata": {
      "needs_background": "light"
     },
     "output_type": "display_data"
    }
   ],
   "source": [
    "sns.countplot(x=\"HomePlanet\",hue=\"Transported\", data=train_df)"
   ]
  },
  {
   "cell_type": "code",
   "execution_count": 11,
   "id": "ee96fa69",
   "metadata": {
    "execution": {
     "iopub.execute_input": "2022-07-23T14:35:01.347717Z",
     "iopub.status.busy": "2022-07-23T14:35:01.347428Z",
     "iopub.status.idle": "2022-07-23T14:35:01.506715Z",
     "shell.execute_reply": "2022-07-23T14:35:01.505485Z"
    },
    "papermill": {
     "duration": 0.179975,
     "end_time": "2022-07-23T14:35:01.509436",
     "exception": false,
     "start_time": "2022-07-23T14:35:01.329461",
     "status": "completed"
    },
    "tags": []
   },
   "outputs": [
    {
     "data": {
      "text/plain": [
       "<AxesSubplot:xlabel='Transported', ylabel='count'>"
      ]
     },
     "execution_count": 11,
     "metadata": {},
     "output_type": "execute_result"
    },
    {
     "data": {
      "image/png": "[encoded data removed]",
      "text/plain": [
       "<Figure size 432x288 with 1 Axes>"
      ]
     },
     "metadata": {
      "needs_background": "light"
     },
     "output_type": "display_data"
    }
   ],
   "source": [
    "sns.countplot(x=\"Transported\", data=train_df)"
   ]
  },
  {
   "cell_type": "code",
   "execution_count": 12,
   "id": "f73a978e",
   "metadata": {
    "execution": {
     "iopub.execute_input": "2022-07-23T14:35:01.547780Z",
     "iopub.status.busy": "2022-07-23T14:35:01.546486Z",
     "iopub.status.idle": "2022-07-23T14:35:01.772541Z",
     "shell.execute_reply": "2022-07-23T14:35:01.771155Z"
    },
    "papermill": {
     "duration": 0.247891,
     "end_time": "2022-07-23T14:35:01.775461",
     "exception": false,
     "start_time": "2022-07-23T14:35:01.527570",
     "status": "completed"
    },
    "tags": []
   },
   "outputs": [
    {
     "data": {
      "text/plain": [
       "<AxesSubplot:xlabel='Destination', ylabel='count'>"
      ]
     },
     "execution_count": 12,
     "metadata": {},
     "output_type": "execute_result"
    },
    {
     "data": {
      "image/png": "[encoded data removed]",
      "text/plain": [
       "<Figure size 432x288 with 1 Axes>"
      ]
     },
     "metadata": {
      "needs_background": "light"
     },
     "output_type": "display_data"
    }
   ],
   "source": [
    "sns.countplot(x=\"Destination\",hue=\"Transported\", data=train_df)"
   ]
  },
  {
   "cell_type": "code",
   "execution_count": 13,
   "id": "e5157ace",
   "metadata": {
    "execution": {
     "iopub.execute_input": "2022-07-23T14:35:01.813820Z",
     "iopub.status.busy": "2022-07-23T14:35:01.813496Z",
     "iopub.status.idle": "2022-07-23T14:35:02.169244Z",
     "shell.execute_reply": "2022-07-23T14:35:02.168044Z"
    },
    "papermill": {
     "duration": 0.37755,
     "end_time": "2022-07-23T14:35:02.171629",
     "exception": false,
     "start_time": "2022-07-23T14:35:01.794079",
     "status": "completed"
    },
    "tags": []
   },
   "outputs": [
    {
     "data": {
      "text/plain": [
       "<AxesSubplot:xlabel='HomePlanet', ylabel='Count'>"
      ]
     },
     "execution_count": 13,
     "metadata": {},
     "output_type": "execute_result"
    },
    {
     "data": {
      "image/png": "[encoded data removed]",
      "text/plain": [
       "<Figure size 432x288 with 1 Axes>"
      ]
     },
     "metadata": {
      "needs_background": "light"
     },
     "output_type": "display_data"
    }
   ],
   "source": [
    "sns.histplot(x=\"HomePlanet\",hue=\"Destination\", data=train_df, multiple=\"stack\", kde=True)"
   ]
  },
  {
   "cell_type": "code",
   "execution_count": 14,
   "id": "3b531d65",
   "metadata": {
    "execution": {
     "iopub.execute_input": "2022-07-23T14:35:02.211313Z",
     "iopub.status.busy": "2022-07-23T14:35:02.210486Z",
     "iopub.status.idle": "2022-07-23T14:35:02.445898Z",
     "shell.execute_reply": "2022-07-23T14:35:02.444747Z"
    },
    "papermill": {
     "duration": 0.256951,
     "end_time": "2022-07-23T14:35:02.448565",
     "exception": false,
     "start_time": "2022-07-23T14:35:02.191614",
     "status": "completed"
    },
    "tags": []
   },
   "outputs": [
    {
     "data": {
      "text/plain": [
       "<AxesSubplot:xlabel='CryoSleep', ylabel='count'>"
      ]
     },
     "execution_count": 14,
     "metadata": {},
     "output_type": "execute_result"
    },
    {
     "data": {
      "image/png": "[encoded data removed]",
      "text/plain": [
       "<Figure size 432x288 with 1 Axes>"
      ]
     },
     "metadata": {
      "needs_background": "light"
     },
     "output_type": "display_data"
    }
   ],
   "source": [
    "sns.countplot(x=\"CryoSleep\",hue=\"Transported\", data=train_df)"
   ]
  },
  {
   "cell_type": "code",
   "execution_count": 15,
   "id": "e2a8a2c2",
   "metadata": {
    "execution": {
     "iopub.execute_input": "2022-07-23T14:35:02.487496Z",
     "iopub.status.busy": "2022-07-23T14:35:02.487159Z",
     "iopub.status.idle": "2022-07-23T14:35:02.718096Z",
     "shell.execute_reply": "2022-07-23T14:35:02.716657Z"
    },
    "papermill": {
     "duration": 0.253624,
     "end_time": "2022-07-23T14:35:02.720840",
     "exception": false,
     "start_time": "2022-07-23T14:35:02.467216",
     "status": "completed"
    },
    "tags": []
   },
   "outputs": [
    {
     "data": {
      "text/plain": [
       "<AxesSubplot:xlabel='VIP', ylabel='count'>"
      ]
     },
     "execution_count": 15,
     "metadata": {},
     "output_type": "execute_result"
    },
    {
     "data": {
      "image/png": "[encoded data removed]",
      "text/plain": [
       "<Figure size 432x288 with 1 Axes>"
      ]
     },
     "metadata": {
      "needs_background": "light"
     },
     "output_type": "display_data"
    }
   ],
   "source": [
    "sns.countplot(x=\"VIP\",hue=\"Transported\", data=train_df)"
   ]
  },
  {
   "cell_type": "code",
   "execution_count": 16,
   "id": "4808e94a",
   "metadata": {
    "execution": {
     "iopub.execute_input": "2022-07-23T14:35:02.761835Z",
     "iopub.status.busy": "2022-07-23T14:35:02.759812Z",
     "iopub.status.idle": "2022-07-23T14:35:03.048254Z",
     "shell.execute_reply": "2022-07-23T14:35:03.047068Z"
    },
    "papermill": {
     "duration": 0.311159,
     "end_time": "2022-07-23T14:35:03.050927",
     "exception": false,
     "start_time": "2022-07-23T14:35:02.739768",
     "status": "completed"
    },
    "tags": []
   },
   "outputs": [
    {
     "data": {
      "text/plain": [
       "<AxesSubplot:xlabel='Age', ylabel='Count'>"
      ]
     },
     "execution_count": 16,
     "metadata": {},
     "output_type": "execute_result"
    },
    {
     "data": {
      "image/png": "[encoded data removed]",
      "text/plain": [
       "<Figure size 432x288 with 1 Axes>"
      ]
     },
     "metadata": {
      "needs_background": "light"
     },
     "output_type": "display_data"
    }
   ],
   "source": [
    "sns.histplot(data=train_df, x=\"Age\", binwidth=5,multiple=\"stack\", kde=True)"
   ]
  },
  {
   "cell_type": "code",
   "execution_count": 17,
   "id": "6327fbd5",
   "metadata": {
    "execution": {
     "iopub.execute_input": "2022-07-23T14:35:03.093167Z",
     "iopub.status.busy": "2022-07-23T14:35:03.092855Z",
     "iopub.status.idle": "2022-07-23T14:35:03.604716Z",
     "shell.execute_reply": "2022-07-23T14:35:03.603349Z"
    },
    "papermill": {
     "duration": 0.53631,
     "end_time": "2022-07-23T14:35:03.607246",
     "exception": false,
     "start_time": "2022-07-23T14:35:03.070936",
     "status": "completed"
    },
    "tags": []
   },
   "outputs": [
    {
     "data": {
      "text/plain": [
       "<AxesSubplot:xlabel='Age', ylabel='RoomService'>"
      ]
     },
     "execution_count": 17,
     "metadata": {},
     "output_type": "execute_result"
    },
    {
     "data": {
      "image/png": "[encoded data removed]",
      "text/plain": [
       "<Figure size 432x288 with 1 Axes>"
      ]
     },
     "metadata": {
      "needs_background": "light"
     },
     "output_type": "display_data"
    }
   ],
   "source": [
    "sns.scatterplot(data=train_df, x='Age', y='RoomService',hue=\"Transported\",legend=\"full\")"
   ]
  },
  {
   "cell_type": "code",
   "execution_count": 18,
   "id": "91e5ec7d",
   "metadata": {
    "execution": {
     "iopub.execute_input": "2022-07-23T14:35:03.649446Z",
     "iopub.status.busy": "2022-07-23T14:35:03.649106Z",
     "iopub.status.idle": "2022-07-23T14:35:04.168808Z",
     "shell.execute_reply": "2022-07-23T14:35:04.167566Z"
    },
    "papermill": {
     "duration": 0.543536,
     "end_time": "2022-07-23T14:35:04.171300",
     "exception": false,
     "start_time": "2022-07-23T14:35:03.627764",
     "status": "completed"
    },
    "tags": []
   },
   "outputs": [
    {
     "data": {
      "text/plain": [
       "<AxesSubplot:xlabel='Age', ylabel='Spa'>"
      ]
     },
     "execution_count": 18,
     "metadata": {},
     "output_type": "execute_result"
    },
    {
     "data": {
      "image/png": "[encoded data removed]",
      "text/plain": [
       "<Figure size 432x288 with 1 Axes>"
      ]
     },
     "metadata": {
      "needs_background": "light"
     },
     "output_type": "display_data"
    }
   ],
   "source": [
    "sns.scatterplot(data=train_df, x='Age', y='Spa',hue=\"Transported\",legend=\"full\")"
   ]
  },
  {
   "cell_type": "code",
   "execution_count": 19,
   "id": "d775d1eb",
   "metadata": {
    "execution": {
     "iopub.execute_input": "2022-07-23T14:35:04.217869Z",
     "iopub.status.busy": "2022-07-23T14:35:04.217528Z",
     "iopub.status.idle": "2022-07-23T14:35:04.726702Z",
     "shell.execute_reply": "2022-07-23T14:35:04.725473Z"
    },
    "papermill": {
     "duration": 0.536099,
     "end_time": "2022-07-23T14:35:04.729626",
     "exception": false,
     "start_time": "2022-07-23T14:35:04.193527",
     "status": "completed"
    },
    "tags": []
   },
   "outputs": [
    {
     "data": {
      "text/plain": [
       "<AxesSubplot:xlabel='Age', ylabel='VRDeck'>"
      ]
     },
     "execution_count": 19,
     "metadata": {},
     "output_type": "execute_result"
    },
    {
     "data": {
      "image/png": "[encoded data removed]",
      "text/plain": [
       "<Figure size 432x288 with 1 Axes>"
      ]
     },
     "metadata": {
      "needs_background": "light"
     },
     "output_type": "display_data"
    }
   ],
   "source": [
    "sns.scatterplot(data=train_df, x='Age', y='VRDeck',hue=\"Transported\",legend=\"full\")"
   ]
  },
  {
   "cell_type": "code",
   "execution_count": 20,
   "id": "64ab7608",
   "metadata": {
    "execution": {
     "iopub.execute_input": "2022-07-23T14:35:04.775093Z",
     "iopub.status.busy": "2022-07-23T14:35:04.774762Z",
     "iopub.status.idle": "2022-07-23T14:35:04.950004Z",
     "shell.execute_reply": "2022-07-23T14:35:04.948685Z"
    },
    "papermill": {
     "duration": 0.200889,
     "end_time": "2022-07-23T14:35:04.952792",
     "exception": false,
     "start_time": "2022-07-23T14:35:04.751903",
     "status": "completed"
    },
    "tags": []
   },
   "outputs": [
    {
     "data": {
      "text/plain": [
       "<AxesSubplot:xlabel='FoodCourt'>"
      ]
     },
     "execution_count": 20,
     "metadata": {},
     "output_type": "execute_result"
    },
    {
     "data": {
      "image/png": "[encoded data removed]",
      "text/plain": [
       "<Figure size 432x288 with 1 Axes>"
      ]
     },
     "metadata": {
      "needs_background": "light"
     },
     "output_type": "display_data"
    }
   ],
   "source": [
    "sns.boxplot(x='FoodCourt',data=train_df)"
   ]
  },
  {
   "cell_type": "code",
   "execution_count": 21,
   "id": "ea4c0f4a",
   "metadata": {
    "execution": {
     "iopub.execute_input": "2022-07-23T14:35:04.998799Z",
     "iopub.status.busy": "2022-07-23T14:35:04.998194Z",
     "iopub.status.idle": "2022-07-23T14:35:05.006834Z",
     "shell.execute_reply": "2022-07-23T14:35:05.005464Z"
    },
    "papermill": {
     "duration": 0.034548,
     "end_time": "2022-07-23T14:35:05.009569",
     "exception": false,
     "start_time": "2022-07-23T14:35:04.975021",
     "status": "completed"
    },
    "tags": []
   },
   "outputs": [],
   "source": [
    "train_df.loc[train_df['FoodCourt'] > 20000, 'FoodCourt'] = train_df.loc[train_df['FoodCourt'] < 20000, 'FoodCourt'].mean()"
   ]
  },
  {
   "cell_type": "code",
   "execution_count": 22,
   "id": "f9614384",
   "metadata": {
    "execution": {
     "iopub.execute_input": "2022-07-23T14:35:05.057483Z",
     "iopub.status.busy": "2022-07-23T14:35:05.055707Z",
     "iopub.status.idle": "2022-07-23T14:35:05.355597Z",
     "shell.execute_reply": "2022-07-23T14:35:05.354260Z"
    },
    "papermill": {
     "duration": 0.326849,
     "end_time": "2022-07-23T14:35:05.358691",
     "exception": false,
     "start_time": "2022-07-23T14:35:05.031842",
     "status": "completed"
    },
    "tags": []
   },
   "outputs": [
    {
     "data": {
      "text/plain": [
       "<AxesSubplot:xlabel='Transported', ylabel='ShoppingMall'>"
      ]
     },
     "execution_count": 22,
     "metadata": {},
     "output_type": "execute_result"
    },
    {
     "data": {
      "image/png": "[encoded data removed]",
      "text/plain": [
       "<Figure size 432x288 with 1 Axes>"
      ]
     },
     "metadata": {
      "needs_background": "light"
     },
     "output_type": "display_data"
    }
   ],
   "source": [
    "sns.boxplot(x='Transported', y='ShoppingMall',data=train_df)"
   ]
  },
  {
   "cell_type": "code",
   "execution_count": 23,
   "id": "6f3b103d",
   "metadata": {
    "execution": {
     "iopub.execute_input": "2022-07-23T14:35:05.407632Z",
     "iopub.status.busy": "2022-07-23T14:35:05.407263Z",
     "iopub.status.idle": "2022-07-23T14:35:05.415511Z",
     "shell.execute_reply": "2022-07-23T14:35:05.413934Z"
    },
    "papermill": {
     "duration": 0.03497,
     "end_time": "2022-07-23T14:35:05.418253",
     "exception": false,
     "start_time": "2022-07-23T14:35:05.383283",
     "status": "completed"
    },
    "tags": []
   },
   "outputs": [],
   "source": [
    "train_df.loc[train_df['ShoppingMall'] > 10000, 'ShoppingMall'] = train_df.loc[train_df['ShoppingMall'] < 10000, 'ShoppingMall'].mean()"
   ]
  },
  {
   "cell_type": "code",
   "execution_count": 24,
   "id": "b6116211",
   "metadata": {
    "execution": {
     "iopub.execute_input": "2022-07-23T14:35:05.464823Z",
     "iopub.status.busy": "2022-07-23T14:35:05.464533Z",
     "iopub.status.idle": "2022-07-23T14:35:05.631167Z",
     "shell.execute_reply": "2022-07-23T14:35:05.629848Z"
    },
    "papermill": {
     "duration": 0.193301,
     "end_time": "2022-07-23T14:35:05.633813",
     "exception": false,
     "start_time": "2022-07-23T14:35:05.440512",
     "status": "completed"
    },
    "tags": []
   },
   "outputs": [
    {
     "data": {
      "text/plain": [
       "<AxesSubplot:xlabel='Spa'>"
      ]
     },
     "execution_count": 24,
     "metadata": {},
     "output_type": "execute_result"
    },
    {
     "data": {
      "image/png": "[encoded data removed]",
      "text/plain": [
       "<Figure size 432x288 with 1 Axes>"
      ]
     },
     "metadata": {
      "needs_background": "light"
     },
     "output_type": "display_data"
    }
   ],
   "source": [
    "sns.boxplot(x='Spa',data=train_df)"
   ]
  },
  {
   "cell_type": "code",
   "execution_count": 25,
   "id": "f9db55ea",
   "metadata": {
    "execution": {
     "iopub.execute_input": "2022-07-23T14:35:05.682433Z",
     "iopub.status.busy": "2022-07-23T14:35:05.682077Z",
     "iopub.status.idle": "2022-07-23T14:35:05.690382Z",
     "shell.execute_reply": "2022-07-23T14:35:05.689168Z"
    },
    "papermill": {
     "duration": 0.036072,
     "end_time": "2022-07-23T14:35:05.692893",
     "exception": false,
     "start_time": "2022-07-23T14:35:05.656821",
     "status": "completed"
    },
    "tags": []
   },
   "outputs": [],
   "source": [
    "train_df.loc[train_df['Spa'] > 20000, 'Spa'] = train_df.loc[train_df['Spa'] < 20000, 'Spa'].mean()"
   ]
  },
  {
   "cell_type": "code",
   "execution_count": 26,
   "id": "169ae6a0",
   "metadata": {
    "execution": {
     "iopub.execute_input": "2022-07-23T14:35:05.744327Z",
     "iopub.status.busy": "2022-07-23T14:35:05.744001Z",
     "iopub.status.idle": "2022-07-23T14:35:05.917330Z",
     "shell.execute_reply": "2022-07-23T14:35:05.916088Z"
    },
    "papermill": {
     "duration": 0.203277,
     "end_time": "2022-07-23T14:35:05.919952",
     "exception": false,
     "start_time": "2022-07-23T14:35:05.716675",
     "status": "completed"
    },
    "tags": []
   },
   "outputs": [
    {
     "data": {
      "text/plain": [
       "<AxesSubplot:xlabel='VRDeck'>"
      ]
     },
     "execution_count": 26,
     "metadata": {},
     "output_type": "execute_result"
    },
    {
     "data": {
      "image/png": "[encoded data removed]",
      "text/plain": [
       "<Figure size 432x288 with 1 Axes>"
      ]
     },
     "metadata": {
      "needs_background": "light"
     },
     "output_type": "display_data"
    }
   ],
   "source": [
    "sns.boxplot(x='VRDeck',data=train_df)"
   ]
  },
  {
   "cell_type": "code",
   "execution_count": 27,
   "id": "1cdb8f0c",
   "metadata": {
    "execution": {
     "iopub.execute_input": "2022-07-23T14:35:05.984626Z",
     "iopub.status.busy": "2022-07-23T14:35:05.984281Z",
     "iopub.status.idle": "2022-07-23T14:35:05.993636Z",
     "shell.execute_reply": "2022-07-23T14:35:05.992474Z"
    },
    "papermill": {
     "duration": 0.039024,
     "end_time": "2022-07-23T14:35:05.996248",
     "exception": false,
     "start_time": "2022-07-23T14:35:05.957224",
     "status": "completed"
    },
    "tags": []
   },
   "outputs": [],
   "source": [
    "train_df.loc[train_df['VRDeck'] > 20000, 'VRDeck'] = train_df.loc[train_df['VRDeck'] < 20000, 'VRDeck'].mean()"
   ]
  },
  {
   "cell_type": "code",
   "execution_count": 28,
   "id": "74b6c78a",
   "metadata": {
    "execution": {
     "iopub.execute_input": "2022-07-23T14:35:06.045761Z",
     "iopub.status.busy": "2022-07-23T14:35:06.045453Z",
     "iopub.status.idle": "2022-07-23T14:35:06.222618Z",
     "shell.execute_reply": "2022-07-23T14:35:06.221344Z"
    },
    "papermill": {
     "duration": 0.205166,
     "end_time": "2022-07-23T14:35:06.225346",
     "exception": false,
     "start_time": "2022-07-23T14:35:06.020180",
     "status": "completed"
    },
    "tags": []
   },
   "outputs": [
    {
     "data": {
      "text/plain": [
       "<AxesSubplot:xlabel='RoomService'>"
      ]
     },
     "execution_count": 28,
     "metadata": {},
     "output_type": "execute_result"
    },
    {
     "data": {
      "image/png": "[encoded data removed]",
      "text/plain": [
       "<Figure size 432x288 with 1 Axes>"
      ]
     },
     "metadata": {
      "needs_background": "light"
     },
     "output_type": "display_data"
    }
   ],
   "source": [
    "sns.boxplot(x='RoomService',data=train_df)"
   ]
  },
  {
   "cell_type": "code",
   "execution_count": 29,
   "id": "ec8e0afb",
   "metadata": {
    "execution": {
     "iopub.execute_input": "2022-07-23T14:35:06.273705Z",
     "iopub.status.busy": "2022-07-23T14:35:06.273161Z",
     "iopub.status.idle": "2022-07-23T14:35:06.281486Z",
     "shell.execute_reply": "2022-07-23T14:35:06.279984Z"
    },
    "papermill": {
     "duration": 0.035626,
     "end_time": "2022-07-23T14:35:06.284224",
     "exception": false,
     "start_time": "2022-07-23T14:35:06.248598",
     "status": "completed"
    },
    "tags": []
   },
   "outputs": [],
   "source": [
    "train_df.loc[train_df['RoomService'] > 10000, 'RoomService'] = train_df.loc[train_df['RoomService'] < 10000, 'RoomService'].mean()"
   ]
  },
  {
   "cell_type": "code",
   "execution_count": 30,
   "id": "ec590424",
   "metadata": {
    "execution": {
     "iopub.execute_input": "2022-07-23T14:35:06.332434Z",
     "iopub.status.busy": "2022-07-23T14:35:06.332067Z",
     "iopub.status.idle": "2022-07-23T14:35:06.340577Z",
     "shell.execute_reply": "2022-07-23T14:35:06.339363Z"
    },
    "papermill": {
     "duration": 0.035283,
     "end_time": "2022-07-23T14:35:06.343264",
     "exception": false,
     "start_time": "2022-07-23T14:35:06.307981",
     "status": "completed"
    },
    "tags": []
   },
   "outputs": [],
   "source": [
    "train_df['HomePlanet']= train_df['HomePlanet'].fillna('Earth')\n",
    "test_df['HomePlanet']= test_df['HomePlanet'].fillna('Earth')"
   ]
  },
  {
   "cell_type": "code",
   "execution_count": 31,
   "id": "eac4fcb9",
   "metadata": {
    "execution": {
     "iopub.execute_input": "2022-07-23T14:35:06.392965Z",
     "iopub.status.busy": "2022-07-23T14:35:06.392629Z",
     "iopub.status.idle": "2022-07-23T14:35:06.401499Z",
     "shell.execute_reply": "2022-07-23T14:35:06.400057Z"
    },
    "papermill": {
     "duration": 0.036905,
     "end_time": "2022-07-23T14:35:06.403989",
     "exception": false,
     "start_time": "2022-07-23T14:35:06.367084",
     "status": "completed"
    },
    "tags": []
   },
   "outputs": [],
   "source": [
    "train_df['Destination']= train_df['Destination'].fillna('TRAPPIST-1e')\n",
    "test_df['Destination']= test_df['Destination'].fillna('TRAPPIST-1e')"
   ]
  },
  {
   "cell_type": "code",
   "execution_count": 32,
   "id": "36e722fe",
   "metadata": {
    "_kg_hide-output": true,
    "execution": {
     "iopub.execute_input": "2022-07-23T14:35:06.454085Z",
     "iopub.status.busy": "2022-07-23T14:35:06.453701Z",
     "iopub.status.idle": "2022-07-23T14:35:06.497363Z",
     "shell.execute_reply": "2022-07-23T14:35:06.495924Z"
    },
    "papermill": {
     "duration": 0.072907,
     "end_time": "2022-07-23T14:35:06.500540",
     "exception": false,
     "start_time": "2022-07-23T14:35:06.427633",
     "status": "completed"
    },
    "tags": []
   },
   "outputs": [],
   "source": [
    "train_df['Destination'] = train_df['Destination'].str.replace(\"TRAPPIST-1e\",\"TRAPPIST\")\n",
    "train_df['Destination'] = train_df['Destination'].str.replace(\"55 Cancri e\",\"Cancri\")\n",
    "train_df['Destination'] = train_df['Destination'].str.replace(\"PSO J318.5-22\",\"PSO\")\n",
    "#easy names xD\n",
    "test_df['Destination'] = test_df['Destination'].str.replace(\"TRAPPIST-1e\",\"TRAPPIST\")\n",
    "test_df['Destination'] = test_df['Destination'].str.replace(\"55 Cancri e\",\"Cancri\")\n",
    "test_df['Destination'] = test_df['Destination'].str.replace(\"PSO J318.5-22\",\"PSO\")"
   ]
  },
  {
   "cell_type": "code",
   "execution_count": 33,
   "id": "8870bd2b",
   "metadata": {
    "execution": {
     "iopub.execute_input": "2022-07-23T14:35:06.554760Z",
     "iopub.status.busy": "2022-07-23T14:35:06.554203Z",
     "iopub.status.idle": "2022-07-23T14:35:06.566281Z",
     "shell.execute_reply": "2022-07-23T14:35:06.565113Z"
    },
    "papermill": {
     "duration": 0.047109,
     "end_time": "2022-07-23T14:35:06.570146",
     "exception": false,
     "start_time": "2022-07-23T14:35:06.523037",
     "status": "completed"
    },
    "tags": []
   },
   "outputs": [],
   "source": [
    "train_df['CryoSleep']= train_df['CryoSleep'].fillna(False)\n",
    "test_df['CryoSleep']= test_df['CryoSleep'].fillna(False)"
   ]
  },
  {
   "cell_type": "code",
   "execution_count": 34,
   "id": "b388bcd1",
   "metadata": {
    "execution": {
     "iopub.execute_input": "2022-07-23T14:35:06.628737Z",
     "iopub.status.busy": "2022-07-23T14:35:06.628428Z",
     "iopub.status.idle": "2022-07-23T14:35:06.638265Z",
     "shell.execute_reply": "2022-07-23T14:35:06.637072Z"
    },
    "papermill": {
     "duration": 0.037152,
     "end_time": "2022-07-23T14:35:06.640849",
     "exception": false,
     "start_time": "2022-07-23T14:35:06.603697",
     "status": "completed"
    },
    "tags": []
   },
   "outputs": [],
   "source": [
    "train_df['VIP']= train_df['VIP'].fillna(False)\n",
    "test_df['VIP']= test_df['VIP'].fillna(False)"
   ]
  },
  {
   "cell_type": "code",
   "execution_count": 35,
   "id": "1bb5916e",
   "metadata": {
    "execution": {
     "iopub.execute_input": "2022-07-23T14:35:06.689868Z",
     "iopub.status.busy": "2022-07-23T14:35:06.688676Z",
     "iopub.status.idle": "2022-07-23T14:35:06.697251Z",
     "shell.execute_reply": "2022-07-23T14:35:06.696033Z"
    },
    "papermill": {
     "duration": 0.0355,
     "end_time": "2022-07-23T14:35:06.699711",
     "exception": false,
     "start_time": "2022-07-23T14:35:06.664211",
     "status": "completed"
    },
    "tags": []
   },
   "outputs": [
    {
     "data": {
      "text/plain": [
       "28.82793046746535"
      ]
     },
     "execution_count": 35,
     "metadata": {},
     "output_type": "execute_result"
    }
   ],
   "source": [
    "train_df['Age'].mean()"
   ]
  },
  {
   "cell_type": "code",
   "execution_count": 36,
   "id": "4c8e6f3d",
   "metadata": {
    "execution": {
     "iopub.execute_input": "2022-07-23T14:35:06.750354Z",
     "iopub.status.busy": "2022-07-23T14:35:06.749364Z",
     "iopub.status.idle": "2022-07-23T14:35:06.756705Z",
     "shell.execute_reply": "2022-07-23T14:35:06.755493Z"
    },
    "papermill": {
     "duration": 0.035691,
     "end_time": "2022-07-23T14:35:06.759349",
     "exception": false,
     "start_time": "2022-07-23T14:35:06.723658",
     "status": "completed"
    },
    "tags": []
   },
   "outputs": [],
   "source": [
    "train_df['Age']= train_df['Age'].fillna(29)\n",
    "test_df['Age']= test_df['Age'].fillna(29)"
   ]
  },
  {
   "cell_type": "code",
   "execution_count": 37,
   "id": "d1b65e2a",
   "metadata": {
    "execution": {
     "iopub.execute_input": "2022-07-23T14:35:06.808564Z",
     "iopub.status.busy": "2022-07-23T14:35:06.807989Z",
     "iopub.status.idle": "2022-07-23T14:35:06.815985Z",
     "shell.execute_reply": "2022-07-23T14:35:06.814867Z"
    },
    "papermill": {
     "duration": 0.035339,
     "end_time": "2022-07-23T14:35:06.818440",
     "exception": false,
     "start_time": "2022-07-23T14:35:06.783101",
     "status": "completed"
    },
    "tags": []
   },
   "outputs": [],
   "source": [
    "train_df['Spa']= train_df['Spa'].fillna(train_df['Spa'].mean())\n",
    "test_df['Spa']= test_df['Spa'].fillna(test_df['Spa'].mean())"
   ]
  },
  {
   "cell_type": "code",
   "execution_count": 38,
   "id": "51bd4475",
   "metadata": {
    "execution": {
     "iopub.execute_input": "2022-07-23T14:35:06.867676Z",
     "iopub.status.busy": "2022-07-23T14:35:06.866227Z",
     "iopub.status.idle": "2022-07-23T14:35:06.874587Z",
     "shell.execute_reply": "2022-07-23T14:35:06.873508Z"
    },
    "papermill": {
     "duration": 0.035111,
     "end_time": "2022-07-23T14:35:06.876928",
     "exception": false,
     "start_time": "2022-07-23T14:35:06.841817",
     "status": "completed"
    },
    "tags": []
   },
   "outputs": [],
   "source": [
    "train_df['FoodCourt']= train_df['FoodCourt'].fillna(train_df['FoodCourt'].mean())\n",
    "test_df['FoodCourt']= test_df['FoodCourt'].fillna(test_df['FoodCourt'].mean())"
   ]
  },
  {
   "cell_type": "code",
   "execution_count": 39,
   "id": "88f5b7e9",
   "metadata": {
    "execution": {
     "iopub.execute_input": "2022-07-23T14:35:06.926451Z",
     "iopub.status.busy": "2022-07-23T14:35:06.926119Z",
     "iopub.status.idle": "2022-07-23T14:35:06.934431Z",
     "shell.execute_reply": "2022-07-23T14:35:06.933273Z"
    },
    "papermill": {
     "duration": 0.036058,
     "end_time": "2022-07-23T14:35:06.936937",
     "exception": false,
     "start_time": "2022-07-23T14:35:06.900879",
     "status": "completed"
    },
    "tags": []
   },
   "outputs": [],
   "source": [
    "train_df['ShoppingMall']= train_df['ShoppingMall'].fillna(train_df['ShoppingMall'].mean())\n",
    "test_df['ShoppingMall']= test_df['ShoppingMall'].fillna(test_df['ShoppingMall'].mean())"
   ]
  },
  {
   "cell_type": "code",
   "execution_count": 40,
   "id": "c83da422",
   "metadata": {
    "execution": {
     "iopub.execute_input": "2022-07-23T14:35:06.986802Z",
     "iopub.status.busy": "2022-07-23T14:35:06.986488Z",
     "iopub.status.idle": "2022-07-23T14:35:06.994523Z",
     "shell.execute_reply": "2022-07-23T14:35:06.993361Z"
    },
    "papermill": {
     "duration": 0.035622,
     "end_time": "2022-07-23T14:35:06.997048",
     "exception": false,
     "start_time": "2022-07-23T14:35:06.961426",
     "status": "completed"
    },
    "tags": []
   },
   "outputs": [],
   "source": [
    "train_df['RoomService']= train_df['RoomService'].fillna(train_df['RoomService'].mean())\n",
    "test_df['RoomService']= test_df['RoomService'].fillna(test_df['RoomService'].mean())"
   ]
  },
  {
   "cell_type": "code",
   "execution_count": 41,
   "id": "7b495fc6",
   "metadata": {
    "execution": {
     "iopub.execute_input": "2022-07-23T14:35:07.047579Z",
     "iopub.status.busy": "2022-07-23T14:35:07.047216Z",
     "iopub.status.idle": "2022-07-23T14:35:07.054649Z",
     "shell.execute_reply": "2022-07-23T14:35:07.053480Z"
    },
    "papermill": {
     "duration": 0.035966,
     "end_time": "2022-07-23T14:35:07.057243",
     "exception": false,
     "start_time": "2022-07-23T14:35:07.021277",
     "status": "completed"
    },
    "tags": []
   },
   "outputs": [],
   "source": [
    "train_df['VRDeck']= train_df['VRDeck'].fillna(train_df['VRDeck'].mean())\n",
    "test_df['VRDeck']= test_df['VRDeck'].fillna(test_df['VRDeck'].mean())"
   ]
  },
  {
   "cell_type": "code",
   "execution_count": 42,
   "id": "8f1d53a5",
   "metadata": {
    "execution": {
     "iopub.execute_input": "2022-07-23T14:35:07.106598Z",
     "iopub.status.busy": "2022-07-23T14:35:07.106271Z",
     "iopub.status.idle": "2022-07-23T14:35:07.112988Z",
     "shell.execute_reply": "2022-07-23T14:35:07.111458Z"
    },
    "papermill": {
     "duration": 0.033935,
     "end_time": "2022-07-23T14:35:07.115473",
     "exception": false,
     "start_time": "2022-07-23T14:35:07.081538",
     "status": "completed"
    },
    "tags": []
   },
   "outputs": [],
   "source": [
    "def converting_column(df,col,convertType):\n",
    "    if convertType=='OHE':\n",
    "        one_hot = pd.get_dummies(df[col],prefix=col)\n",
    "        df = df.drop(col,axis = 1)\n",
    "        df = df.join(one_hot)\n",
    "        return df\n",
    "    else:\n",
    "        df[col] = le.fit_transform(df[col])\n",
    "        return df"
   ]
  },
  {
   "cell_type": "code",
   "execution_count": 43,
   "id": "ef33f9d9",
   "metadata": {
    "execution": {
     "iopub.execute_input": "2022-07-23T14:35:07.163697Z",
     "iopub.status.busy": "2022-07-23T14:35:07.163376Z",
     "iopub.status.idle": "2022-07-23T14:35:07.182282Z",
     "shell.execute_reply": "2022-07-23T14:35:07.181081Z"
    },
    "papermill": {
     "duration": 0.046261,
     "end_time": "2022-07-23T14:35:07.184851",
     "exception": false,
     "start_time": "2022-07-23T14:35:07.138590",
     "status": "completed"
    },
    "tags": []
   },
   "outputs": [],
   "source": [
    "train_df = converting_column(train_df,'HomePlanet','OHE')\n",
    "test_df = converting_column(test_df,'HomePlanet','OHE')"
   ]
  },
  {
   "cell_type": "code",
   "execution_count": 44,
   "id": "8d48dc3f",
   "metadata": {
    "execution": {
     "iopub.execute_input": "2022-07-23T14:35:07.234583Z",
     "iopub.status.busy": "2022-07-23T14:35:07.233780Z",
     "iopub.status.idle": "2022-07-23T14:35:07.245183Z",
     "shell.execute_reply": "2022-07-23T14:35:07.244076Z"
    },
    "papermill": {
     "duration": 0.039271,
     "end_time": "2022-07-23T14:35:07.247875",
     "exception": false,
     "start_time": "2022-07-23T14:35:07.208604",
     "status": "completed"
    },
    "tags": []
   },
   "outputs": [],
   "source": [
    "train_df = converting_column(train_df,'Destination','FTR')\n",
    "test_df = converting_column(test_df,'Destination','FTR')"
   ]
  },
  {
   "cell_type": "code",
   "execution_count": 45,
   "id": "4a1e7ae4",
   "metadata": {
    "execution": {
     "iopub.execute_input": "2022-07-23T14:35:07.298478Z",
     "iopub.status.busy": "2022-07-23T14:35:07.298168Z",
     "iopub.status.idle": "2022-07-23T14:35:07.305447Z",
     "shell.execute_reply": "2022-07-23T14:35:07.304309Z"
    },
    "papermill": {
     "duration": 0.035152,
     "end_time": "2022-07-23T14:35:07.308270",
     "exception": false,
     "start_time": "2022-07-23T14:35:07.273118",
     "status": "completed"
    },
    "tags": []
   },
   "outputs": [],
   "source": [
    "train_df = converting_column(train_df,'CryoSleep','FTR')\n",
    "test_df = converting_column(test_df,'CryoSleep','FTR')"
   ]
  },
  {
   "cell_type": "code",
   "execution_count": 46,
   "id": "eea9ae27",
   "metadata": {
    "execution": {
     "iopub.execute_input": "2022-07-23T14:35:07.358915Z",
     "iopub.status.busy": "2022-07-23T14:35:07.357900Z",
     "iopub.status.idle": "2022-07-23T14:35:07.365397Z",
     "shell.execute_reply": "2022-07-23T14:35:07.364090Z"
    },
    "papermill": {
     "duration": 0.036937,
     "end_time": "2022-07-23T14:35:07.368000",
     "exception": false,
     "start_time": "2022-07-23T14:35:07.331063",
     "status": "completed"
    },
    "tags": []
   },
   "outputs": [],
   "source": [
    "train_df = converting_column(train_df,'VIP','FTR')\n",
    "test_df = converting_column(test_df,'VIP','FTR')"
   ]
  },
  {
   "cell_type": "code",
   "execution_count": 47,
   "id": "a47b2516",
   "metadata": {
    "execution": {
     "iopub.execute_input": "2022-07-23T14:35:07.416427Z",
     "iopub.status.busy": "2022-07-23T14:35:07.416113Z",
     "iopub.status.idle": "2022-07-23T14:35:07.424003Z",
     "shell.execute_reply": "2022-07-23T14:35:07.422733Z"
    },
    "papermill": {
     "duration": 0.035317,
     "end_time": "2022-07-23T14:35:07.426430",
     "exception": false,
     "start_time": "2022-07-23T14:35:07.391113",
     "status": "completed"
    },
    "tags": []
   },
   "outputs": [],
   "source": [
    "def CabinExtract(df):\n",
    "    df[['Deck', 'Num', 'Side']] = df['Cabin'].str.split('/', expand=True)    \n",
    "    df['Num'] = df['Num'].astype(float)\n",
    "    \n",
    "    df['Deck']= df['Deck'].fillna('G')\n",
    "    df['Num']= df['Num'].fillna(df['Num'].mean())\n",
    "    df['Side']= df['Side'].fillna('S')\n",
    "    \n",
    "             \n",
    "    df['Deck'] = le.fit_transform(df['Deck'])\n",
    "    df['Side'] = le.fit_transform(df['Side'])\n",
    "    \n",
    "    return df"
   ]
  },
  {
   "cell_type": "code",
   "execution_count": 48,
   "id": "fb609c45",
   "metadata": {
    "execution": {
     "iopub.execute_input": "2022-07-23T14:35:07.477141Z",
     "iopub.status.busy": "2022-07-23T14:35:07.476818Z",
     "iopub.status.idle": "2022-07-23T14:35:07.525310Z",
     "shell.execute_reply": "2022-07-23T14:35:07.524331Z"
    },
    "papermill": {
     "duration": 0.07777,
     "end_time": "2022-07-23T14:35:07.527834",
     "exception": false,
     "start_time": "2022-07-23T14:35:07.450064",
     "status": "completed"
    },
    "tags": []
   },
   "outputs": [],
   "source": [
    "train_df = CabinExtract(train_df)\n",
    "test_df = CabinExtract(test_df)"
   ]
  },
  {
   "cell_type": "code",
   "execution_count": 49,
   "id": "a38a2e92",
   "metadata": {
    "execution": {
     "iopub.execute_input": "2022-07-23T14:35:07.577613Z",
     "iopub.status.busy": "2022-07-23T14:35:07.577281Z",
     "iopub.status.idle": "2022-07-23T14:35:07.583611Z",
     "shell.execute_reply": "2022-07-23T14:35:07.582345Z"
    },
    "papermill": {
     "duration": 0.033668,
     "end_time": "2022-07-23T14:35:07.586031",
     "exception": false,
     "start_time": "2022-07-23T14:35:07.552363",
     "status": "completed"
    },
    "tags": []
   },
   "outputs": [],
   "source": [
    "def findFamilyId(df):\n",
    "    df[['Passenger_Group_Id', 'Passenger_Num']] = df['PassengerId'].str.split('_', expand=True)\n",
    "    df['Passenger_Group_Id'] = df['Passenger_Group_Id'].astype(int)\n",
    "    df['Passenger_Num'] = df['Passenger_Num'].astype(int)\n",
    "    df['Passenger_Cnt'] = df.groupby('Passenger_Group_Id')['Passenger_Num'].transform('max')\n",
    "    return df"
   ]
  },
  {
   "cell_type": "code",
   "execution_count": 50,
   "id": "d2b16b5e",
   "metadata": {
    "execution": {
     "iopub.execute_input": "2022-07-23T14:35:07.635494Z",
     "iopub.status.busy": "2022-07-23T14:35:07.634658Z",
     "iopub.status.idle": "2022-07-23T14:35:07.676536Z",
     "shell.execute_reply": "2022-07-23T14:35:07.675356Z"
    },
    "papermill": {
     "duration": 0.069572,
     "end_time": "2022-07-23T14:35:07.679202",
     "exception": false,
     "start_time": "2022-07-23T14:35:07.609630",
     "status": "completed"
    },
    "tags": []
   },
   "outputs": [],
   "source": [
    "train_df = findFamilyId(train_df)\n",
    "test_df = findFamilyId(test_df)"
   ]
  },
  {
   "cell_type": "code",
   "execution_count": 51,
   "id": "83f39471",
   "metadata": {
    "execution": {
     "iopub.execute_input": "2022-07-23T14:35:07.727416Z",
     "iopub.status.busy": "2022-07-23T14:35:07.727099Z",
     "iopub.status.idle": "2022-07-23T14:35:07.738577Z",
     "shell.execute_reply": "2022-07-23T14:35:07.737402Z"
    },
    "papermill": {
     "duration": 0.038599,
     "end_time": "2022-07-23T14:35:07.741244",
     "exception": false,
     "start_time": "2022-07-23T14:35:07.702645",
     "status": "completed"
    },
    "tags": []
   },
   "outputs": [],
   "source": [
    "train_df = train_df.drop(['Cabin','Name'], axis=1)\n",
    "test_df = test_df.drop(['Cabin','Name'], axis=1)"
   ]
  },
  {
   "cell_type": "code",
   "execution_count": 52,
   "id": "847ade12",
   "metadata": {
    "execution": {
     "iopub.execute_input": "2022-07-23T14:35:07.790669Z",
     "iopub.status.busy": "2022-07-23T14:35:07.789510Z",
     "iopub.status.idle": "2022-07-23T14:35:07.796579Z",
     "shell.execute_reply": "2022-07-23T14:35:07.795403Z"
    },
    "papermill": {
     "duration": 0.034556,
     "end_time": "2022-07-23T14:35:07.799243",
     "exception": false,
     "start_time": "2022-07-23T14:35:07.764687",
     "status": "completed"
    },
    "tags": []
   },
   "outputs": [],
   "source": [
    "train_df = train_df.drop(['PassengerId'], axis=1)"
   ]
  },
  {
   "cell_type": "code",
   "execution_count": 53,
   "id": "97db0da2",
   "metadata": {
    "execution": {
     "iopub.execute_input": "2022-07-23T14:35:07.848211Z",
     "iopub.status.busy": "2022-07-23T14:35:07.847142Z",
     "iopub.status.idle": "2022-07-23T14:35:07.855772Z",
     "shell.execute_reply": "2022-07-23T14:35:07.854458Z"
    },
    "papermill": {
     "duration": 0.036242,
     "end_time": "2022-07-23T14:35:07.858527",
     "exception": false,
     "start_time": "2022-07-23T14:35:07.822285",
     "status": "completed"
    },
    "tags": []
   },
   "outputs": [],
   "source": [
    "train_df = train_df.drop(['Passenger_Num','Passenger_Group_Id','VIP','Deck','HomePlanet_Mars'], axis=1)\n",
    "test_df = test_df.drop(['Passenger_Num','Passenger_Group_Id','VIP','Deck','HomePlanet_Mars'], axis=1)"
   ]
  },
  {
   "cell_type": "code",
   "execution_count": 54,
   "id": "da8cd5b2",
   "metadata": {
    "execution": {
     "iopub.execute_input": "2022-07-23T14:35:07.907835Z",
     "iopub.status.busy": "2022-07-23T14:35:07.907034Z",
     "iopub.status.idle": "2022-07-23T14:35:07.927081Z",
     "shell.execute_reply": "2022-07-23T14:35:07.925911Z"
    },
    "papermill": {
     "duration": 0.04807,
     "end_time": "2022-07-23T14:35:07.929751",
     "exception": false,
     "start_time": "2022-07-23T14:35:07.881681",
     "status": "completed"
    },
    "tags": []
   },
   "outputs": [],
   "source": [
    "train_df['Under15'] = train_df['Age'].apply(lambda x: 1 if x < 15 else 0)\n",
    "test_df['Under15'] = test_df['Age'].apply(lambda x: 1 if x < 15 else 0)\n",
    "train_df = train_df.drop(['Age'], axis=1)\n",
    "test_df = test_df.drop(['Age'], axis=1)"
   ]
  },
  {
   "cell_type": "code",
   "execution_count": 55,
   "id": "4d87d75a",
   "metadata": {
    "execution": {
     "iopub.execute_input": "2022-07-23T14:35:07.981216Z",
     "iopub.status.busy": "2022-07-23T14:35:07.980900Z",
     "iopub.status.idle": "2022-07-23T14:35:08.003392Z",
     "shell.execute_reply": "2022-07-23T14:35:08.002245Z"
    },
    "papermill": {
     "duration": 0.049781,
     "end_time": "2022-07-23T14:35:08.005919",
     "exception": false,
     "start_time": "2022-07-23T14:35:07.956138",
     "status": "completed"
    },
    "tags": []
   },
   "outputs": [
    {
     "data": {
      "text/html": [
       "<div>\n",
       "<style scoped>\n",
       "    .dataframe tbody tr th:only-of-type {\n",
       "        vertical-align: middle;\n",
       "    }\n",
       "\n",
       "    .dataframe tbody tr th {\n",
       "        vertical-align: top;\n",
       "    }\n",
       "\n",
       "    .dataframe thead th {\n",
       "        text-align: right;\n",
       "    }\n",
       "</style>\n",
       "<table border=\"1\" class=\"dataframe\">\n",
       "  <thead>\n",
       "    <tr style=\"text-align: right;\">\n",
       "      <th></th>\n",
       "      <th>CryoSleep</th>\n",
       "      <th>Destination</th>\n",
       "      <th>RoomService</th>\n",
       "      <th>FoodCourt</th>\n",
       "      <th>ShoppingMall</th>\n",
       "      <th>Spa</th>\n",
       "      <th>VRDeck</th>\n",
       "      <th>Transported</th>\n",
       "      <th>HomePlanet_Earth</th>\n",
       "      <th>HomePlanet_Europa</th>\n",
       "      <th>Num</th>\n",
       "      <th>Side</th>\n",
       "      <th>Passenger_Cnt</th>\n",
       "      <th>Under15</th>\n",
       "    </tr>\n",
       "  </thead>\n",
       "  <tbody>\n",
       "    <tr>\n",
       "      <th>0</th>\n",
       "      <td>0</td>\n",
       "      <td>2</td>\n",
       "      <td>0.0</td>\n",
       "      <td>0.0</td>\n",
       "      <td>0.0</td>\n",
       "      <td>0.0</td>\n",
       "      <td>0.0</td>\n",
       "      <td>False</td>\n",
       "      <td>0</td>\n",
       "      <td>1</td>\n",
       "      <td>0.0</td>\n",
       "      <td>0</td>\n",
       "      <td>1</td>\n",
       "      <td>0</td>\n",
       "    </tr>\n",
       "    <tr>\n",
       "      <th>1</th>\n",
       "      <td>0</td>\n",
       "      <td>2</td>\n",
       "      <td>109.0</td>\n",
       "      <td>9.0</td>\n",
       "      <td>25.0</td>\n",
       "      <td>549.0</td>\n",
       "      <td>44.0</td>\n",
       "      <td>True</td>\n",
       "      <td>1</td>\n",
       "      <td>0</td>\n",
       "      <td>0.0</td>\n",
       "      <td>1</td>\n",
       "      <td>1</td>\n",
       "      <td>0</td>\n",
       "    </tr>\n",
       "    <tr>\n",
       "      <th>2</th>\n",
       "      <td>0</td>\n",
       "      <td>2</td>\n",
       "      <td>43.0</td>\n",
       "      <td>3576.0</td>\n",
       "      <td>0.0</td>\n",
       "      <td>6715.0</td>\n",
       "      <td>49.0</td>\n",
       "      <td>False</td>\n",
       "      <td>0</td>\n",
       "      <td>1</td>\n",
       "      <td>0.0</td>\n",
       "      <td>1</td>\n",
       "      <td>2</td>\n",
       "      <td>0</td>\n",
       "    </tr>\n",
       "    <tr>\n",
       "      <th>3</th>\n",
       "      <td>0</td>\n",
       "      <td>2</td>\n",
       "      <td>0.0</td>\n",
       "      <td>1283.0</td>\n",
       "      <td>371.0</td>\n",
       "      <td>3329.0</td>\n",
       "      <td>193.0</td>\n",
       "      <td>False</td>\n",
       "      <td>0</td>\n",
       "      <td>1</td>\n",
       "      <td>0.0</td>\n",
       "      <td>1</td>\n",
       "      <td>2</td>\n",
       "      <td>0</td>\n",
       "    </tr>\n",
       "    <tr>\n",
       "      <th>4</th>\n",
       "      <td>0</td>\n",
       "      <td>2</td>\n",
       "      <td>303.0</td>\n",
       "      <td>70.0</td>\n",
       "      <td>151.0</td>\n",
       "      <td>565.0</td>\n",
       "      <td>2.0</td>\n",
       "      <td>True</td>\n",
       "      <td>1</td>\n",
       "      <td>0</td>\n",
       "      <td>1.0</td>\n",
       "      <td>1</td>\n",
       "      <td>1</td>\n",
       "      <td>0</td>\n",
       "    </tr>\n",
       "  </tbody>\n",
       "</table>\n",
       "</div>"
      ],
      "text/plain": [
       "   CryoSleep  Destination  RoomService  FoodCourt  ShoppingMall     Spa  \\\n",
       "0          0            2          0.0        0.0           0.0     0.0   \n",
       "1          0            2        109.0        9.0          25.0   549.0   \n",
       "2          0            2         43.0     3576.0           0.0  6715.0   \n",
       "3          0            2          0.0     1283.0         371.0  3329.0   \n",
       "4          0            2        303.0       70.0         151.0   565.0   \n",
       "\n",
       "   VRDeck  Transported  HomePlanet_Earth  HomePlanet_Europa  Num  Side  \\\n",
       "0     0.0        False                 0                  1  0.0     0   \n",
       "1    44.0         True                 1                  0  0.0     1   \n",
       "2    49.0        False                 0                  1  0.0     1   \n",
       "3   193.0        False                 0                  1  0.0     1   \n",
       "4     2.0         True                 1                  0  1.0     1   \n",
       "\n",
       "   Passenger_Cnt  Under15  \n",
       "0              1        0  \n",
       "1              1        0  \n",
       "2              2        0  \n",
       "3              2        0  \n",
       "4              1        0  "
      ]
     },
     "execution_count": 55,
     "metadata": {},
     "output_type": "execute_result"
    }
   ],
   "source": [
    "train_df.head(5)"
   ]
  },
  {
   "cell_type": "code",
   "execution_count": 56,
   "id": "5ae39cd1",
   "metadata": {
    "execution": {
     "iopub.execute_input": "2022-07-23T14:35:08.055393Z",
     "iopub.status.busy": "2022-07-23T14:35:08.054132Z",
     "iopub.status.idle": "2022-07-23T14:35:08.064908Z",
     "shell.execute_reply": "2022-07-23T14:35:08.063824Z"
    },
    "papermill": {
     "duration": 0.03876,
     "end_time": "2022-07-23T14:35:08.067725",
     "exception": false,
     "start_time": "2022-07-23T14:35:08.028965",
     "status": "completed"
    },
    "tags": []
   },
   "outputs": [],
   "source": [
    "X = train_df.drop(\"Transported\", axis=1)\n",
    "y = train_df[\"Transported\"]\n",
    "\n",
    "from sklearn.model_selection import train_test_split\n",
    "X_train, X_valid, y_train, y_valid = train_test_split(X, y, test_size = 0.2, random_state = 0)"
   ]
  },
  {
   "cell_type": "code",
   "execution_count": 57,
   "id": "96308c02",
   "metadata": {
    "execution": {
     "iopub.execute_input": "2022-07-23T14:35:08.156065Z",
     "iopub.status.busy": "2022-07-23T14:35:08.155192Z",
     "iopub.status.idle": "2022-07-23T14:35:08.167516Z",
     "shell.execute_reply": "2022-07-23T14:35:08.166352Z"
    },
    "papermill": {
     "duration": 0.077975,
     "end_time": "2022-07-23T14:35:08.170178",
     "exception": false,
     "start_time": "2022-07-23T14:35:08.092203",
     "status": "completed"
    },
    "tags": []
   },
   "outputs": [
    {
     "data": {
      "text/plain": [
       "((6954, 13), (6954,), (1739, 13), (1739,), (4277, 13))"
      ]
     },
     "execution_count": 57,
     "metadata": {},
     "output_type": "execute_result"
    }
   ],
   "source": [
    "X_test  = test_df.drop(\"PassengerId\", axis=1).copy()\n",
    "X_train.shape, y_train.shape,X_valid.shape, y_valid.shape , X_test.shape"
   ]
  },
  {
   "cell_type": "code",
   "execution_count": 58,
   "id": "da1c63e7",
   "metadata": {
    "execution": {
     "iopub.execute_input": "2022-07-23T14:35:08.217954Z",
     "iopub.status.busy": "2022-07-23T14:35:08.217637Z",
     "iopub.status.idle": "2022-07-23T14:35:08.223627Z",
     "shell.execute_reply": "2022-07-23T14:35:08.222464Z"
    },
    "papermill": {
     "duration": 0.032905,
     "end_time": "2022-07-23T14:35:08.225984",
     "exception": false,
     "start_time": "2022-07-23T14:35:08.193079",
     "status": "completed"
    },
    "tags": []
   },
   "outputs": [],
   "source": [
    "# params = {\n",
    "# 'n_estimators': range(1, 10),\n",
    "# 'max_depth': range(3, 9),\n",
    "# 'learning_rate': [.2, .3, .4, .5, .6],\n",
    "# 'colsample_bytree': [.7, .8, .9, 1]\n",
    "# }\n",
    "# xgb = XGBClassifier()\n",
    "# g_search = GridSearchCV(estimator = xgb, param_grid = params,\n",
    "# cv = 3, n_jobs = -1, verbose = 0, return_train_score=True)\n",
    "# g_search.fit(X_train, y_train)\n",
    "# print(g_search.best_params_)"
   ]
  },
  {
   "cell_type": "code",
   "execution_count": 59,
   "id": "bd51580f",
   "metadata": {
    "_kg_hide-output": true,
    "execution": {
     "iopub.execute_input": "2022-07-23T14:35:08.274232Z",
     "iopub.status.busy": "2022-07-23T14:35:08.273890Z",
     "iopub.status.idle": "2022-07-23T14:35:11.603252Z",
     "shell.execute_reply": "2022-07-23T14:35:11.600896Z"
    },
    "papermill": {
     "duration": 3.356631,
     "end_time": "2022-07-23T14:35:11.605907",
     "exception": false,
     "start_time": "2022-07-23T14:35:08.249276",
     "status": "completed"
    },
    "tags": []
   },
   "outputs": [
    {
     "name": "stdout",
     "output_type": "stream",
     "text": [
      "Performance on train data: 0.8055795225769341\n",
      "Confusion Matrix : \n",
      " [[659 204]\n",
      " [164 712]]\n"
     ]
    }
   ],
   "source": [
    "xgb_model = XGBClassifier(colsample_bytree=0.8, n_estimators= 7,learning_rate=0.5,subsample= 0.6, min_child_weight=1, max_depth=4, objective='binary:logistic')\n",
    "mod = xgb_model.fit(X_train, y_train,eval_metric='logloss')\n",
    "\n",
    "print(\"Performance on train data:\", mod.score(X_train, y_train))\n",
    "\n",
    "y_pred_v = xgb_model.predict(X_valid)\n",
    "\n",
    "cm = confusion_matrix(y_valid, y_pred_v) \n",
    "print (\"Confusion Matrix : \\n\", cm)"
   ]
  },
  {
   "cell_type": "code",
   "execution_count": 60,
   "id": "818c3392",
   "metadata": {
    "execution": {
     "iopub.execute_input": "2022-07-23T14:35:11.655759Z",
     "iopub.status.busy": "2022-07-23T14:35:11.655156Z",
     "iopub.status.idle": "2022-07-23T14:35:11.663930Z",
     "shell.execute_reply": "2022-07-23T14:35:11.662499Z"
    },
    "papermill": {
     "duration": 0.036496,
     "end_time": "2022-07-23T14:35:11.666495",
     "exception": false,
     "start_time": "2022-07-23T14:35:11.629999",
     "status": "completed"
    },
    "tags": []
   },
   "outputs": [
    {
     "data": {
      "text/plain": [
       "array([1, 1, 0, ..., 1, 0, 0])"
      ]
     },
     "execution_count": 60,
     "metadata": {},
     "output_type": "execute_result"
    }
   ],
   "source": [
    "y_pred_v"
   ]
  },
  {
   "cell_type": "code",
   "execution_count": 61,
   "id": "c2e77bc8",
   "metadata": {
    "execution": {
     "iopub.execute_input": "2022-07-23T14:35:11.717260Z",
     "iopub.status.busy": "2022-07-23T14:35:11.715382Z",
     "iopub.status.idle": "2022-07-23T14:35:11.725252Z",
     "shell.execute_reply": "2022-07-23T14:35:11.724061Z"
    },
    "papermill": {
     "duration": 0.036982,
     "end_time": "2022-07-23T14:35:11.727717",
     "exception": false,
     "start_time": "2022-07-23T14:35:11.690735",
     "status": "completed"
    },
    "tags": []
   },
   "outputs": [],
   "source": [
    "y_pred_x=mod.predict(X_test)\n"
   ]
  },
  {
   "cell_type": "code",
   "execution_count": 62,
   "id": "151dc5b0",
   "metadata": {
    "execution": {
     "iopub.execute_input": "2022-07-23T14:35:11.777617Z",
     "iopub.status.busy": "2022-07-23T14:35:11.777108Z",
     "iopub.status.idle": "2022-07-23T14:35:11.783137Z",
     "shell.execute_reply": "2022-07-23T14:35:11.781896Z"
    },
    "papermill": {
     "duration": 0.034496,
     "end_time": "2022-07-23T14:35:11.786154",
     "exception": false,
     "start_time": "2022-07-23T14:35:11.751658",
     "status": "completed"
    },
    "tags": []
   },
   "outputs": [],
   "source": [
    "PassengerId = test_df['PassengerId']\n",
    "submission = pd.DataFrame({'PassengerId':PassengerId,'Transported':y_pred_x})"
   ]
  },
  {
   "cell_type": "code",
   "execution_count": 63,
   "id": "29dfa98e",
   "metadata": {
    "execution": {
     "iopub.execute_input": "2022-07-23T14:35:11.837175Z",
     "iopub.status.busy": "2022-07-23T14:35:11.836154Z",
     "iopub.status.idle": "2022-07-23T14:35:11.851371Z",
     "shell.execute_reply": "2022-07-23T14:35:11.850095Z"
    },
    "papermill": {
     "duration": 0.044032,
     "end_time": "2022-07-23T14:35:11.854011",
     "exception": false,
     "start_time": "2022-07-23T14:35:11.809979",
     "status": "completed"
    },
    "tags": []
   },
   "outputs": [],
   "source": [
    "submission.to_csv('submission.csv',index=False)"
   ]
  }
 ],
 "metadata": {
  "kernelspec": {
   "display_name": "Python 3",
   "language": "python",
   "name": "python3"
  },
  "language_info": {
   "codemirror_mode": {
    "name": "ipython",
    "version": 3
   },
   "file_extension": ".py",
   "mimetype": "text/x-python",
   "name": "python",
   "nbconvert_exporter": "python",
   "pygments_lexer": "ipython3",
   "version": "3.7.12"
  },
  "papermill": {
   "default_parameters": {},
   "duration": 24.927472,
   "end_time": "2022-07-23T14:35:13.202883",
   "environment_variables": {},
   "exception": null,
   "input_path": "__notebook__.ipynb",
   "output_path": "__notebook__.ipynb",
   "parameters": {},
   "start_time": "2022-07-23T14:34:48.275411",
   "version": "2.3.4"
  }
 },
 "nbformat": 4,
 "nbformat_minor": 5
}
